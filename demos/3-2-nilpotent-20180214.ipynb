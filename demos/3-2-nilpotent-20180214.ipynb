{
 "cells": [
  {
   "cell_type": "code",
   "execution_count": 1,
   "metadata": {
    "collapsed": false,
    "deletable": true,
    "editable": true
   },
   "outputs": [
    {
     "data": {
      "text/html": [
       "<link href=\"http://mathbook.pugetsound.edu/beta/mathbook-content.css\" rel=\"stylesheet\" type=\"text/css\" />\n",
       "<link href=\"https://aimath.org/mathbook/mathbook-add-on.css\" rel=\"stylesheet\" type=\"text/css\" />\n",
       "<link href=\"https://fonts.googleapis.com/css?family=Open+Sans:400,400italic,600,600italic\" rel=\"stylesheet\" type=\"text/css\" />\n",
       "<link href=\"https://fonts.googleapis.com/css?family=Inconsolata:400,700&subset=latin,latin-ext\" rel=\"stylesheet\" type=\"text/css\" /><!-- Hide this cell. -->\n",
       "<script>\n",
       "var cell = $(\".container .cell\").eq(0), ia = cell.find(\".input_area\")\n",
       "if (cell.find(\".toggle-button\").length == 0) {\n",
       "ia.after(\n",
       "    $('<button class=\"toggle-button\">Toggle hidden code</button>').click(\n",
       "        function (){ ia.toggle() }\n",
       "        )\n",
       "    )\n",
       "ia.hide()\n",
       "}\n",
       "</script>"
      ],
      "text/plain": [
       "<IPython.core.display.HTML object>"
      ]
     },
     "metadata": {},
     "output_type": "display_data"
    }
   ],
   "source": [
    "%%html\n",
    "<link href=\"http://mathbook.pugetsound.edu/beta/mathbook-content.css\" rel=\"stylesheet\" type=\"text/css\" />\n",
    "<link href=\"https://aimath.org/mathbook/mathbook-add-on.css\" rel=\"stylesheet\" type=\"text/css\" />\n",
    "<link href=\"https://fonts.googleapis.com/css?family=Open+Sans:400,400italic,600,600italic\" rel=\"stylesheet\" type=\"text/css\" />\n",
    "<link href=\"https://fonts.googleapis.com/css?family=Inconsolata:400,700&subset=latin,latin-ext\" rel=\"stylesheet\" type=\"text/css\" /><!-- Hide this cell. -->\n",
    "<script>\n",
    "var cell = $(\".container .cell\").eq(0), ia = cell.find(\".input_area\")\n",
    "if (cell.find(\".toggle-button\").length == 0) {\n",
    "ia.after(\n",
    "    $('<button class=\"toggle-button\">Toggle hidden code</button>').click(\n",
    "        function (){ ia.toggle() }\n",
    "        )\n",
    "    )\n",
    "ia.hide()\n",
    "}\n",
    "</script>\n"
   ]
  },
  {
   "cell_type": "markdown",
   "metadata": {
    "deletable": true,
    "editable": true
   },
   "source": [
    "**Important:** to view this notebook properly you will need to execute the cell above, which assumes you have an Internet connection.  It should already be selected, or place your cursor anywhere above to select.  Then press the \"Run\" button in the menu bar above (the right-pointing arrowhead), or press Shift-Enter on your keyboard."
   ]
  },
  {
   "cell_type": "markdown",
   "metadata": {
    "deletable": true,
    "editable": true
   },
   "source": [
    "$\n",
    "\\newcommand{\\lt}{<}\n",
    "\\newcommand{\\gt}{>}\n",
    "\\newcommand{\\amp}{&}\n",
    "$"
   ]
  },
  {
   "cell_type": "markdown",
   "metadata": {
    "deletable": true,
    "editable": true
   },
   "source": [
    "<div class=\"mathbook-content\"><h1 class=\"heading\"><span class=\"title\">3-2: Nilpotent Matrices</span></h1><div class=\"author\"><div class=\"author-name\">Robert A. Beezer</div><div class=\"author-info\" /></div></div>"
   ]
  },
  {
   "cell_type": "markdown",
   "metadata": {
    "deletable": true,
    "editable": true
   },
   "source": [
    "<div class=\"mathbook-content\"><p id=\"p-1\">Investigate powers of this $15\\times 15$ matrix, and kernels of powers (through sixth power).</p></div>"
   ]
  },
  {
   "cell_type": "code",
   "execution_count": 3,
   "metadata": {
    "collapsed": false,
    "deletable": true,
    "editable": true
   },
   "outputs": [
    {
     "data": {
      "text/html": [
       "<html><script type=\"math/tex; mode=display\">\\newcommand{\\Bold}[1]{\\mathbf{#1}}\\left(\\begin{array}{rrrrrrrrrrrrrrr}\n",
       "-15292 & -10841 & -5818 & 37939 & -10761 & -611 & -5838 & 54848 & -27522 & -75915 & 51572 & -139733 & 138924 & -52119 & -49734 \\\\\n",
       "-12573 & -8906 & -4777 & 31182 & -8880 & -529 & -4764 & 44938 & -22614 & -62359 & 42285 & -114765 & 114172 & -42867 & -40788 \\\\\n",
       "-6111 & -4356 & -2338 & 15206 & -4232 & -175 & -2420 & 22302 & -11045 & -30500 & 20881 & -56227 & 55766 & -20871 & -20271 \\\\\n",
       "18488 & 13114 & 7041 & -45879 & 13023 & 763 & 7042 & -66189 & 33271 & 91776 & -62263 & 168904 & -168042 & 63110 & 59965 \\\\\n",
       "15091 & 10686 & 5736 & -37418 & 10668 & 654 & 5702 & -53851 & 27133 & 74820 & -50703 & 137653 & -136972 & 51447 & 48836 \\\\\n",
       "14670 & 10435 & 5604 & -36459 & 10212 & 482 & 5736 & -53209 & 26471 & 73075 & -49903 & 134615 & -133614 & 50042 & 48268 \\\\\n",
       "-20093 & -14238 & -7639 & 49839 & -14179 & -839 & -7627 & 71857 & -36144 & -99678 & 67604 & -183450 & 182502 & -68517 & -65146 \\\\\n",
       "-20197 & -14322 & -7687 & 50115 & -14218 & -815 & -7706 & 72399 & -36351 & -100269 & 68083 & -184558 & 183538 & -68886 & -65646 \\\\\n",
       "24824 & 17627 & 9461 & -61640 & 17404 & 931 & 9560 & -89374 & 44724 & 123402 & -83949 & 227236 & -225855 & 84712 & 81042 \\\\\n",
       "-7312 & -5196 & -2789 & 18165 & -5097 & -242 & -2852 & 26505 & -13190 & -36405 & 24860 & -67066 & 66557 & -24918 & -24072 \\\\\n",
       "6024 & 4274 & 2295 & -14949 & 4247 & 255 & 2289 & -21532 & 10838 & 29896 & -20262 & 55012 & -54757 & 20576 & 19476 \\\\\n",
       "8919 & 6332 & 3400 & -22142 & 6263 & 350 & 3420 & -32033 & 16061 & 44313 & -30112 & 81566 & -81103 & 30439 & 29009 \\\\\n",
       "15068 & 10689 & 5738 & -37394 & 10603 & 608 & 5753 & -54018 & 27122 & 74817 & -50798 & 137705 & -136955 & 51411 & 48950 \\\\\n",
       "22957 & 16280 & 8738 & -56965 & 16161 & 927 & 8759 & -82290 & 41319 & 113973 & -77385 & 209781 & -208626 & 78306 & 74615 \\\\\n",
       "-4456 & -3160 & -1696 & 11057 & -3137 & -180 & -1700 & 15972 & -8020 & -22122 & 15020 & -40718 & 40494 & -15199 & -14481\n",
       "\\end{array}\\right)</script></html>"
      ],
      "text/plain": [
       "[ -15292  -10841   -5818   37939  -10761    -611   -5838   54848  -27522  -75915   51572 -139733  138924  -52119  -49734]\n",
       "[ -12573   -8906   -4777   31182   -8880    -529   -4764   44938  -22614  -62359   42285 -114765  114172  -42867  -40788]\n",
       "[  -6111   -4356   -2338   15206   -4232    -175   -2420   22302  -11045  -30500   20881  -56227   55766  -20871  -20271]\n",
       "[  18488   13114    7041  -45879   13023     763    7042  -66189   33271   91776  -62263  168904 -168042   63110   59965]\n",
       "[  15091   10686    5736  -37418   10668     654    5702  -53851   27133   74820  -50703  137653 -136972   51447   48836]\n",
       "[  14670   10435    5604  -36459   10212     482    5736  -53209   26471   73075  -49903  134615 -133614   50042   48268]\n",
       "[ -20093  -14238   -7639   49839  -14179    -839   -7627   71857  -36144  -99678   67604 -183450  182502  -68517  -65146]\n",
       "[ -20197  -14322   -7687   50115  -14218    -815   -7706   72399  -36351 -100269   68083 -184558  183538  -68886  -65646]\n",
       "[  24824   17627    9461  -61640   17404     931    9560  -89374   44724  123402  -83949  227236 -225855   84712   81042]\n",
       "[  -7312   -5196   -2789   18165   -5097    -242   -2852   26505  -13190  -36405   24860  -67066   66557  -24918  -24072]\n",
       "[   6024    4274    2295  -14949    4247     255    2289  -21532   10838   29896  -20262   55012  -54757   20576   19476]\n",
       "[   8919    6332    3400  -22142    6263     350    3420  -32033   16061   44313  -30112   81566  -81103   30439   29009]\n",
       "[  15068   10689    5738  -37394   10603     608    5753  -54018   27122   74817  -50798  137705 -136955   51411   48950]\n",
       "[  22957   16280    8738  -56965   16161     927    8759  -82290   41319  113973  -77385  209781 -208626   78306   74615]\n",
       "[  -4456   -3160   -1696   11057   -3137    -180   -1700   15972   -8020  -22122   15020  -40718   40494  -15199  -14481]"
      ]
     },
     "metadata": {},
     "output_type": "display_data"
    }
   ],
   "source": [
    "B = matrix(QQ,\n",
    "[[-15292, -10841, -5818, 37939, -10761, -611, -5838, 54848, -27522, -75915, 51572, -139733, 138924, -52119, -49734],\n",
    "[-12573, -8906, -4777, 31182, -8880, -529, -4764, 44938, -22614, -62359, 42285, -114765, 114172, -42867, -40788],\n",
    "[-6111, -4356, -2338, 15206, -4232, -175, -2420, 22302, -11045, -30500, 20881, -56227, 55766, -20871, -20271],\n",
    "[18488, 13114, 7041, -45879, 13023, 763, 7042, -66189, 33271, 91776, -62263, 168904, -168042, 63110, 59965],\n",
    "[15091, 10686, 5736, -37418, 10668, 654, 5702, -53851, 27133, 74820, -50703, 137653, -136972, 51447, 48836],\n",
    "[14670, 10435, 5604, -36459, 10212, 482, 5736, -53209, 26471, 73075, -49903, 134615, -133614, 50042, 48268],\n",
    "[-20093, -14238, -7639, 49839, -14179, -839, -7627, 71857, -36144, -99678, 67604, -183450, 182502, -68517, -65146],\n",
    "[-20197, -14322, -7687, 50115, -14218, -815, -7706, 72399, -36351, -100269, 68083, -184558, 183538, -68886, -65646],\n",
    "[24824, 17627, 9461, -61640, 17404, 931, 9560, -89374, 44724, 123402, -83949, 227236, -225855, 84712, 81042],\n",
    "[-7312, -5196, -2789, 18165, -5097, -242, -2852, 26505, -13190, -36405, 24860, -67066, 66557, -24918, -24072],\n",
    "[6024, 4274, 2295, -14949, 4247, 255, 2289, -21532, 10838, 29896, -20262, 55012, -54757, 20576, 19476],\n",
    "[8919, 6332, 3400, -22142, 6263, 350, 3420, -32033, 16061, 44313, -30112, 81566, -81103, 30439, 29009],\n",
    "[15068, 10689, 5738, -37394, 10603, 608, 5753, -54018, 27122, 74817, -50798, 137705, -136955, 51411, 48950],\n",
    "[22957, 16280, 8738, -56965, 16161, 927, 8759, -82290, 41319, 113973, -77385, 209781, -208626, 78306, 74615],\n",
    "[-4456, -3160, -1696, 11057, -3137, -180, -1700, 15972, -8020, -22122, 15020, -40718, 40494, -15199, -14481]])\n",
    "show(B)"
   ]
  },
  {
   "cell_type": "code",
   "execution_count": 9,
   "metadata": {
    "collapsed": false,
    "deletable": true,
    "editable": true
   },
   "outputs": [
    {
     "data": {
      "text/html": [
       "<html><script type=\"math/tex; mode=display\">\\newcommand{\\Bold}[1]{\\mathbf{#1}}\\left(\\begin{array}{rrrrrrrrrrrrrrr}\n",
       "0 & 0 & 0 & 0 & 0 & 0 & 0 & 0 & 0 & 0 & 0 & 0 & 0 & 0 & 0 \\\\\n",
       "0 & 0 & 0 & 0 & 0 & 0 & 0 & 0 & 0 & 0 & 0 & 0 & 0 & 0 & 0 \\\\\n",
       "0 & 0 & 0 & 0 & 0 & 0 & 0 & 0 & 0 & 0 & 0 & 0 & 0 & 0 & 0 \\\\\n",
       "0 & 0 & 0 & 0 & 0 & 0 & 0 & 0 & 0 & 0 & 0 & 0 & 0 & 0 & 0 \\\\\n",
       "0 & 0 & 0 & 0 & 0 & 0 & 0 & 0 & 0 & 0 & 0 & 0 & 0 & 0 & 0 \\\\\n",
       "0 & 0 & 0 & 0 & 0 & 0 & 0 & 0 & 0 & 0 & 0 & 0 & 0 & 0 & 0 \\\\\n",
       "0 & 0 & 0 & 0 & 0 & 0 & 0 & 0 & 0 & 0 & 0 & 0 & 0 & 0 & 0 \\\\\n",
       "0 & 0 & 0 & 0 & 0 & 0 & 0 & 0 & 0 & 0 & 0 & 0 & 0 & 0 & 0 \\\\\n",
       "0 & 0 & 0 & 0 & 0 & 0 & 0 & 0 & 0 & 0 & 0 & 0 & 0 & 0 & 0 \\\\\n",
       "0 & 0 & 0 & 0 & 0 & 0 & 0 & 0 & 0 & 0 & 0 & 0 & 0 & 0 & 0 \\\\\n",
       "0 & 0 & 0 & 0 & 0 & 0 & 0 & 0 & 0 & 0 & 0 & 0 & 0 & 0 & 0 \\\\\n",
       "0 & 0 & 0 & 0 & 0 & 0 & 0 & 0 & 0 & 0 & 0 & 0 & 0 & 0 & 0 \\\\\n",
       "0 & 0 & 0 & 0 & 0 & 0 & 0 & 0 & 0 & 0 & 0 & 0 & 0 & 0 & 0 \\\\\n",
       "0 & 0 & 0 & 0 & 0 & 0 & 0 & 0 & 0 & 0 & 0 & 0 & 0 & 0 & 0 \\\\\n",
       "0 & 0 & 0 & 0 & 0 & 0 & 0 & 0 & 0 & 0 & 0 & 0 & 0 & 0 & 0\n",
       "\\end{array}\\right)</script></html>"
      ],
      "text/plain": [
       "[0 0 0 0 0 0 0 0 0 0 0 0 0 0 0]\n",
       "[0 0 0 0 0 0 0 0 0 0 0 0 0 0 0]\n",
       "[0 0 0 0 0 0 0 0 0 0 0 0 0 0 0]\n",
       "[0 0 0 0 0 0 0 0 0 0 0 0 0 0 0]\n",
       "[0 0 0 0 0 0 0 0 0 0 0 0 0 0 0]\n",
       "[0 0 0 0 0 0 0 0 0 0 0 0 0 0 0]\n",
       "[0 0 0 0 0 0 0 0 0 0 0 0 0 0 0]\n",
       "[0 0 0 0 0 0 0 0 0 0 0 0 0 0 0]\n",
       "[0 0 0 0 0 0 0 0 0 0 0 0 0 0 0]\n",
       "[0 0 0 0 0 0 0 0 0 0 0 0 0 0 0]\n",
       "[0 0 0 0 0 0 0 0 0 0 0 0 0 0 0]\n",
       "[0 0 0 0 0 0 0 0 0 0 0 0 0 0 0]\n",
       "[0 0 0 0 0 0 0 0 0 0 0 0 0 0 0]\n",
       "[0 0 0 0 0 0 0 0 0 0 0 0 0 0 0]\n",
       "[0 0 0 0 0 0 0 0 0 0 0 0 0 0 0]"
      ]
     },
     "metadata": {},
     "output_type": "display_data"
    }
   ],
   "source": [
    "show(B^6)"
   ]
  },
  {
   "cell_type": "code",
   "execution_count": 10,
   "metadata": {
    "collapsed": false
   },
   "outputs": [
    {
     "data": {
      "text/plain": [
       "[0, 5, 8, 11, 13, 14, 15]"
      ]
     },
     "execution_count": 10,
     "metadata": {},
     "output_type": "execute_result"
    }
   ],
   "source": [
    "[(B^k).right_kernel().dimension() for k in range(7)]"
   ]
  },
  {
   "cell_type": "code",
   "execution_count": 16,
   "metadata": {
    "collapsed": true
   },
   "outputs": [],
   "source": [
    "K1 = (B^1).right_kernel()"
   ]
  },
  {
   "cell_type": "code",
   "execution_count": 17,
   "metadata": {
    "collapsed": true
   },
   "outputs": [],
   "source": [
    "x15 = K6.basis()[-1]"
   ]
  },
  {
   "cell_type": "code",
   "execution_count": 18,
   "metadata": {
    "collapsed": false
   },
   "outputs": [
    {
     "data": {
      "text/plain": [
       "(0, 0, 0, 0, 0, 0, 0, 0, 0, 0, 0, 0, 0, 0, 0)"
      ]
     },
     "execution_count": 18,
     "metadata": {},
     "output_type": "execute_result"
    }
   ],
   "source": [
    "B^6*x15"
   ]
  },
  {
   "cell_type": "code",
   "execution_count": 19,
   "metadata": {
    "collapsed": true
   },
   "outputs": [],
   "source": [
    "x14 = B*x15"
   ]
  },
  {
   "cell_type": "code",
   "execution_count": 20,
   "metadata": {
    "collapsed": true
   },
   "outputs": [],
   "source": [
    "x13=B*x14"
   ]
  },
  {
   "cell_type": "code",
   "execution_count": 21,
   "metadata": {
    "collapsed": true
   },
   "outputs": [],
   "source": [
    "x12=B*x13"
   ]
  },
  {
   "cell_type": "code",
   "execution_count": 22,
   "metadata": {
    "collapsed": true
   },
   "outputs": [],
   "source": [
    "x11=B*x12"
   ]
  },
  {
   "cell_type": "code",
   "execution_count": 23,
   "metadata": {
    "collapsed": true
   },
   "outputs": [],
   "source": [
    "x10=B*x11"
   ]
  },
  {
   "cell_type": "code",
   "execution_count": 24,
   "metadata": {
    "collapsed": false
   },
   "outputs": [
    {
     "data": {
      "text/plain": [
       "(0, 0, 0, 0, 0, 0, 0, 0, 0, 0, 0, 0, 0, 0, 0)"
      ]
     },
     "execution_count": 24,
     "metadata": {},
     "output_type": "execute_result"
    }
   ],
   "source": [
    "B*x10"
   ]
  },
  {
   "cell_type": "code",
   "execution_count": 31,
   "metadata": {
    "collapsed": true
   },
   "outputs": [],
   "source": [
    "x9=K4.basis()[-1]"
   ]
  },
  {
   "cell_type": "code",
   "execution_count": 32,
   "metadata": {
    "collapsed": false
   },
   "outputs": [
    {
     "data": {
      "text/plain": [
       "Vector space of degree 15 and dimension 2 over Rational Field\n",
       "Basis matrix:\n",
       "[           1  19091/23255    1885/4651 -28347/23255   -4594/4651 -22498/23255  30573/23255  30812/23255   -7593/4651  11128/23255  -9266/23255 -13688/23255            0 58339/348825 87793/116275]\n",
       "[           0            0            0            0            0            0            0            0            0            0            0            0            1        76/45         7/15]"
      ]
     },
     "execution_count": 32,
     "metadata": {},
     "output_type": "execute_result"
    }
   ],
   "source": [
    "span([x9, x13])"
   ]
  },
  {
   "cell_type": "code",
   "execution_count": 33,
   "metadata": {
    "collapsed": true
   },
   "outputs": [],
   "source": [
    "x8=B*x9"
   ]
  },
  {
   "cell_type": "code",
   "execution_count": 34,
   "metadata": {
    "collapsed": true
   },
   "outputs": [],
   "source": [
    "x7=B*x8"
   ]
  },
  {
   "cell_type": "code",
   "execution_count": 35,
   "metadata": {
    "collapsed": true
   },
   "outputs": [],
   "source": [
    "x6=B*x7"
   ]
  },
  {
   "cell_type": "code",
   "execution_count": 36,
   "metadata": {
    "collapsed": false
   },
   "outputs": [
    {
     "data": {
      "text/plain": [
       "(0, 0, 0, 0, 0, 0, 0, 0, 0, 0, 0, 0, 0, 0, 0)"
      ]
     },
     "execution_count": 36,
     "metadata": {},
     "output_type": "execute_result"
    }
   ],
   "source": [
    "B*x6"
   ]
  },
  {
   "cell_type": "code",
   "execution_count": 38,
   "metadata": {
    "collapsed": false
   },
   "outputs": [],
   "source": [
    "x5=K3.basis()[-1]"
   ]
  },
  {
   "cell_type": "code",
   "execution_count": 39,
   "metadata": {
    "collapsed": false
   },
   "outputs": [
    {
     "data": {
      "text/plain": [
       "Vector space of degree 15 and dimension 3 over Rational Field\n",
       "Basis matrix:\n",
       "[                         1                          0            -304449/1907534       -249234995/188845866          -2033452/10491437           -6399815/8583903          41444666/31474311          10153618/10491437       -307981843/188845866             451435/5722602                          0   -32486069591/20704374036 -455453090089/227748114396  -178157489399/56937028599  133275012989/227748114396]\n",
       "[                         0                          1            1298287/1907534         25530433/188845866         -10116075/10491437           -2237630/8583903           -111757/31474311           4504054/10491437          1619201/188845866            2782075/5722602                          0    17636771503/20704374036  167762957969/227748114396    47940854365/56937028599  -37893765109/227748114396]\n",
       "[                         0                          0                          0                          0                          0                          0                          0                          0                          0                          0                          1                  -875/1206                 -1253/1206                  -1433/603                   481/1206]"
      ]
     },
     "execution_count": 39,
     "metadata": {},
     "output_type": "execute_result"
    }
   ],
   "source": [
    "span([x5,x8,x12])"
   ]
  },
  {
   "cell_type": "code",
   "execution_count": 40,
   "metadata": {
    "collapsed": true
   },
   "outputs": [],
   "source": [
    "x4=B*x5"
   ]
  },
  {
   "cell_type": "code",
   "execution_count": 41,
   "metadata": {
    "collapsed": true
   },
   "outputs": [],
   "source": [
    "x3=B*x4"
   ]
  },
  {
   "cell_type": "code",
   "execution_count": 42,
   "metadata": {
    "collapsed": false
   },
   "outputs": [
    {
     "data": {
      "text/plain": [
       "(0, 0, 0, 0, 0, 0, 0, 0, 0, 0, 0, 0, 0, 0, 0)"
      ]
     },
     "execution_count": 42,
     "metadata": {},
     "output_type": "execute_result"
    }
   ],
   "source": [
    "B*x3"
   ]
  },
  {
   "cell_type": "code",
   "execution_count": 43,
   "metadata": {
    "collapsed": true
   },
   "outputs": [],
   "source": [
    "x2=K1.basis()[-1]\n",
    "x1=K1.basis()[-2]"
   ]
  },
  {
   "cell_type": "code",
   "execution_count": 44,
   "metadata": {
    "collapsed": false
   },
   "outputs": [
    {
     "data": {
      "text/plain": [
       "Vector space of degree 15 and dimension 5 over Rational Field\n",
       "Basis matrix:\n",
       "[          1           0           0           0           0   -844/2647   2353/7941  -1298/7941   -505/7941   1795/7941   1075/7941  -4105/7941   -745/2647   -220/2647    518/7941]\n",
       "[          0           1           0           0           0   -917/2647   1907/2647   1803/5294  -3684/2647   6245/5294    635/2647  -1563/2647  -1628/2647  -4781/5294    969/5294]\n",
       "[          0           0           1           0           0  -6047/5294   -542/7941   5314/7941  -8908/7941  3179/15882   -143/7941 12505/15882   2205/5294   -397/5294  -485/15882]\n",
       "[          0           0           0           1           0   1028/2647  -2176/7941  -1756/7941   6022/7941  -1120/7941   4085/7941   8224/7941   2463/2647   1811/2647  -1208/7941]\n",
       "[          0           0           0           0           1  -3059/5294   -325/2647  -1795/2647  -2548/2647   5193/5294    261/2647  -7275/5294  -4077/5294   -973/5294    515/5294]"
      ]
     },
     "execution_count": 44,
     "metadata": {},
     "output_type": "execute_result"
    }
   ],
   "source": [
    "span([x1, x2, x3,x6,x10])"
   ]
  },
  {
   "cell_type": "code",
   "execution_count": 45,
   "metadata": {
    "collapsed": true
   },
   "outputs": [],
   "source": [
    "C=[x1,x2,x3,x4,x5,x6,x7,x8,x9,x10,x11,x12,x13,x14,x15]"
   ]
  },
  {
   "cell_type": "code",
   "execution_count": 46,
   "metadata": {
    "collapsed": false
   },
   "outputs": [
    {
     "data": {
      "text/plain": [
       "Vector space of degree 15 and dimension 15 over Rational Field\n",
       "Basis matrix:\n",
       "[1 0 0 0 0 0 0 0 0 0 0 0 0 0 0]\n",
       "[0 1 0 0 0 0 0 0 0 0 0 0 0 0 0]\n",
       "[0 0 1 0 0 0 0 0 0 0 0 0 0 0 0]\n",
       "[0 0 0 1 0 0 0 0 0 0 0 0 0 0 0]\n",
       "[0 0 0 0 1 0 0 0 0 0 0 0 0 0 0]\n",
       "[0 0 0 0 0 1 0 0 0 0 0 0 0 0 0]\n",
       "[0 0 0 0 0 0 1 0 0 0 0 0 0 0 0]\n",
       "[0 0 0 0 0 0 0 1 0 0 0 0 0 0 0]\n",
       "[0 0 0 0 0 0 0 0 1 0 0 0 0 0 0]\n",
       "[0 0 0 0 0 0 0 0 0 1 0 0 0 0 0]\n",
       "[0 0 0 0 0 0 0 0 0 0 1 0 0 0 0]\n",
       "[0 0 0 0 0 0 0 0 0 0 0 1 0 0 0]\n",
       "[0 0 0 0 0 0 0 0 0 0 0 0 1 0 0]\n",
       "[0 0 0 0 0 0 0 0 0 0 0 0 0 1 0]\n",
       "[0 0 0 0 0 0 0 0 0 0 0 0 0 0 1]"
      ]
     },
     "execution_count": 46,
     "metadata": {},
     "output_type": "execute_result"
    }
   ],
   "source": [
    "span(C)"
   ]
  },
  {
   "cell_type": "code",
   "execution_count": 47,
   "metadata": {
    "collapsed": true
   },
   "outputs": [],
   "source": [
    "W = (QQ^15).subspace_with_basis(C)"
   ]
  },
  {
   "cell_type": "code",
   "execution_count": 48,
   "metadata": {
    "collapsed": false
   },
   "outputs": [
    {
     "data": {
      "text/html": [
       "<html><script type=\"math/tex; mode=display\">\\newcommand{\\Bold}[1]{\\mathbf{#1}}\\left(\\begin{array}{rrrrrrrrrrrrrrr}\n",
       "0 & 0 & 0 & 0 & 0 & 0 & 0 & 0 & 0 & 0 & 0 & 0 & 0 & 0 & 0 \\\\\n",
       "0 & 0 & 0 & 0 & 0 & 0 & 0 & 0 & 0 & 0 & 0 & 0 & 0 & 0 & 0 \\\\\n",
       "0 & 0 & 0 & 1 & 0 & 0 & 0 & 0 & 0 & 0 & 0 & 0 & 0 & 0 & 0 \\\\\n",
       "0 & 0 & 0 & 0 & 1 & 0 & 0 & 0 & 0 & 0 & 0 & 0 & 0 & 0 & 0 \\\\\n",
       "0 & 0 & 0 & 0 & 0 & 0 & 0 & 0 & 0 & 0 & 0 & 0 & 0 & 0 & 0 \\\\\n",
       "0 & 0 & 0 & 0 & 0 & 0 & 1 & 0 & 0 & 0 & 0 & 0 & 0 & 0 & 0 \\\\\n",
       "0 & 0 & 0 & 0 & 0 & 0 & 0 & 1 & 0 & 0 & 0 & 0 & 0 & 0 & 0 \\\\\n",
       "0 & 0 & 0 & 0 & 0 & 0 & 0 & 0 & 1 & 0 & 0 & 0 & 0 & 0 & 0 \\\\\n",
       "0 & 0 & 0 & 0 & 0 & 0 & 0 & 0 & 0 & 0 & 0 & 0 & 0 & 0 & 0 \\\\\n",
       "0 & 0 & 0 & 0 & 0 & 0 & 0 & 0 & 0 & 0 & 1 & 0 & 0 & 0 & 0 \\\\\n",
       "0 & 0 & 0 & 0 & 0 & 0 & 0 & 0 & 0 & 0 & 0 & 1 & 0 & 0 & 0 \\\\\n",
       "0 & 0 & 0 & 0 & 0 & 0 & 0 & 0 & 0 & 0 & 0 & 0 & 1 & 0 & 0 \\\\\n",
       "0 & 0 & 0 & 0 & 0 & 0 & 0 & 0 & 0 & 0 & 0 & 0 & 0 & 1 & 0 \\\\\n",
       "0 & 0 & 0 & 0 & 0 & 0 & 0 & 0 & 0 & 0 & 0 & 0 & 0 & 0 & 1 \\\\\n",
       "0 & 0 & 0 & 0 & 0 & 0 & 0 & 0 & 0 & 0 & 0 & 0 & 0 & 0 & 0\n",
       "\\end{array}\\right)</script></html>"
      ],
      "text/plain": [
       "[0 0 0 0 0 0 0 0 0 0 0 0 0 0 0]\n",
       "[0 0 0 0 0 0 0 0 0 0 0 0 0 0 0]\n",
       "[0 0 0 1 0 0 0 0 0 0 0 0 0 0 0]\n",
       "[0 0 0 0 1 0 0 0 0 0 0 0 0 0 0]\n",
       "[0 0 0 0 0 0 0 0 0 0 0 0 0 0 0]\n",
       "[0 0 0 0 0 0 1 0 0 0 0 0 0 0 0]\n",
       "[0 0 0 0 0 0 0 1 0 0 0 0 0 0 0]\n",
       "[0 0 0 0 0 0 0 0 1 0 0 0 0 0 0]\n",
       "[0 0 0 0 0 0 0 0 0 0 0 0 0 0 0]\n",
       "[0 0 0 0 0 0 0 0 0 0 1 0 0 0 0]\n",
       "[0 0 0 0 0 0 0 0 0 0 0 1 0 0 0]\n",
       "[0 0 0 0 0 0 0 0 0 0 0 0 1 0 0]\n",
       "[0 0 0 0 0 0 0 0 0 0 0 0 0 1 0]\n",
       "[0 0 0 0 0 0 0 0 0 0 0 0 0 0 1]\n",
       "[0 0 0 0 0 0 0 0 0 0 0 0 0 0 0]"
      ]
     },
     "metadata": {},
     "output_type": "display_data"
    }
   ],
   "source": [
    "show(column_matrix([W.coordinate_vector((B*b)) for b in C]))"
   ]
  },
  {
   "cell_type": "code",
   "execution_count": 49,
   "metadata": {
    "collapsed": true
   },
   "outputs": [],
   "source": [
    "S = column_matrix(C)"
   ]
  },
  {
   "cell_type": "code",
   "execution_count": 50,
   "metadata": {
    "collapsed": false
   },
   "outputs": [
    {
     "data": {
      "text/html": [
       "<html><script type=\"math/tex; mode=display\">\\newcommand{\\Bold}[1]{\\mathbf{#1}}\\left(\\begin{array}{rrrrrrrrrrrrrrr}\n",
       "0 & 0 & 0 & 0 & 0 & 0 & 0 & 0 & 0 & 0 & 0 & 0 & 0 & 0 & 0 \\\\\n",
       "0 & 0 & 0 & 0 & 0 & 0 & 0 & 0 & 0 & 0 & 0 & 0 & 0 & 0 & 0 \\\\\n",
       "0 & 0 & 0 & 1 & 0 & 0 & 0 & 0 & 0 & 0 & 0 & 0 & 0 & 0 & 0 \\\\\n",
       "0 & 0 & 0 & 0 & 1 & 0 & 0 & 0 & 0 & 0 & 0 & 0 & 0 & 0 & 0 \\\\\n",
       "0 & 0 & 0 & 0 & 0 & 0 & 0 & 0 & 0 & 0 & 0 & 0 & 0 & 0 & 0 \\\\\n",
       "0 & 0 & 0 & 0 & 0 & 0 & 1 & 0 & 0 & 0 & 0 & 0 & 0 & 0 & 0 \\\\\n",
       "0 & 0 & 0 & 0 & 0 & 0 & 0 & 1 & 0 & 0 & 0 & 0 & 0 & 0 & 0 \\\\\n",
       "0 & 0 & 0 & 0 & 0 & 0 & 0 & 0 & 1 & 0 & 0 & 0 & 0 & 0 & 0 \\\\\n",
       "0 & 0 & 0 & 0 & 0 & 0 & 0 & 0 & 0 & 0 & 0 & 0 & 0 & 0 & 0 \\\\\n",
       "0 & 0 & 0 & 0 & 0 & 0 & 0 & 0 & 0 & 0 & 1 & 0 & 0 & 0 & 0 \\\\\n",
       "0 & 0 & 0 & 0 & 0 & 0 & 0 & 0 & 0 & 0 & 0 & 1 & 0 & 0 & 0 \\\\\n",
       "0 & 0 & 0 & 0 & 0 & 0 & 0 & 0 & 0 & 0 & 0 & 0 & 1 & 0 & 0 \\\\\n",
       "0 & 0 & 0 & 0 & 0 & 0 & 0 & 0 & 0 & 0 & 0 & 0 & 0 & 1 & 0 \\\\\n",
       "0 & 0 & 0 & 0 & 0 & 0 & 0 & 0 & 0 & 0 & 0 & 0 & 0 & 0 & 1 \\\\\n",
       "0 & 0 & 0 & 0 & 0 & 0 & 0 & 0 & 0 & 0 & 0 & 0 & 0 & 0 & 0\n",
       "\\end{array}\\right)</script></html>"
      ],
      "text/plain": [
       "[0 0 0 0 0 0 0 0 0 0 0 0 0 0 0]\n",
       "[0 0 0 0 0 0 0 0 0 0 0 0 0 0 0]\n",
       "[0 0 0 1 0 0 0 0 0 0 0 0 0 0 0]\n",
       "[0 0 0 0 1 0 0 0 0 0 0 0 0 0 0]\n",
       "[0 0 0 0 0 0 0 0 0 0 0 0 0 0 0]\n",
       "[0 0 0 0 0 0 1 0 0 0 0 0 0 0 0]\n",
       "[0 0 0 0 0 0 0 1 0 0 0 0 0 0 0]\n",
       "[0 0 0 0 0 0 0 0 1 0 0 0 0 0 0]\n",
       "[0 0 0 0 0 0 0 0 0 0 0 0 0 0 0]\n",
       "[0 0 0 0 0 0 0 0 0 0 1 0 0 0 0]\n",
       "[0 0 0 0 0 0 0 0 0 0 0 1 0 0 0]\n",
       "[0 0 0 0 0 0 0 0 0 0 0 0 1 0 0]\n",
       "[0 0 0 0 0 0 0 0 0 0 0 0 0 1 0]\n",
       "[0 0 0 0 0 0 0 0 0 0 0 0 0 0 1]\n",
       "[0 0 0 0 0 0 0 0 0 0 0 0 0 0 0]"
      ]
     },
     "metadata": {},
     "output_type": "display_data"
    }
   ],
   "source": [
    "show(S.inverse()*B*S)"
   ]
  },
  {
   "cell_type": "code",
   "execution_count": null,
   "metadata": {
    "collapsed": true
   },
   "outputs": [],
   "source": []
  }
 ],
 "metadata": {
  "kernelspec": {
   "display_name": "SageMath 8.1",
   "language": "",
   "name": "sagemath"
  },
  "language_info": {
   "codemirror_mode": {
    "name": "ipython",
    "version": 2
   },
   "file_extension": ".py",
   "mimetype": "text/x-python",
   "name": "python",
   "nbconvert_exporter": "python",
   "pygments_lexer": "ipython2",
   "version": "2.7.14"
  },
  "name": "index.ipynb"
 },
 "nbformat": 4,
 "nbformat_minor": 0
}
