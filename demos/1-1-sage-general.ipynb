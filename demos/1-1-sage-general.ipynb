{
"cells": [
{"cell_type":    "code", "execution_count":null, "metadata":{}, "source":["%%html\n<link href=\"http://mathbook.pugetsound.edu/beta/mathbook-content.css\" rel=\"stylesheet\" type=\"text/css\" />\n<link href=\"https://aimath.org/mathbook/mathbook-add-on.css\" rel=\"stylesheet\" type=\"text/css\" />\n<link href=\"https://fonts.googleapis.com/css?family=Open+Sans:400,400italic,600,600italic\" rel=\"stylesheet\" type=\"text/css\" />\n<link href=\"https://fonts.googleapis.com/css?family=Inconsolata:400,700&subset=latin,latin-ext\" rel=\"stylesheet\" type=\"text/css\" />"], "outputs":[]},
{"cell_type":"markdown", "metadata":{}, "source":["**Important:** to view this notebook properly you will need to execute the cell above, which assumes you have an Internet connection.  It should already be selected, or place your cursor anywhere above to select.  Then press the \"Run\" button in the menu bar above (the right-pointing arrowhead), or press Shift-Enter on your keyboard."]},
{"cell_type":"markdown", "metadata":{}, "source":["$\n\\newcommand{\\lt}{<}\n\\newcommand{\\gt}{>}\n\\newcommand{\\amp}{&}\n$"]},
{"cell_type":"markdown", "metadata":{}, "source":["<div class=\"mathbook-content\"><h1 class=\"heading\"><span class=\"title\">1-1: General Sage Usage</span></h1><div class=\"author\"><div class=\"author-name\">Robert A. Beezer</div><div class=\"author-info\" /></div></div>"]},
{"cell_type":"markdown", "metadata":{}, "source":["<div class=\"mathbook-content\"><p id=\"p-1\">Matrix Creation: note field is rationals, <code class=\"code-inline tex2jax_ignore\">QQ</code>, to get us exact arithmetic.  (Show discrepancy with integer entries and RREF.)</p></div>"]},
{"cell_type":"markdown", "metadata":{}, "source":["<div class=\"mathbook-content\"><p id=\"p-2\">Number of rows and columns can sometimes be left out, if list of lists carries that information. (Construct $3\\times 4$ matrix.)</p></div>"]},
{"cell_type":    "code", "execution_count":null, "metadata":{}, "source":[""], "outputs":[]},
{"cell_type":"markdown", "metadata":{}, "source":["<div class=\"mathbook-content\"><p id=\"p-3\">Vector Creation: similarly. ($4$-slot vector.)</p></div>"]},
{"cell_type":    "code", "execution_count":null, "metadata":{}, "source":[""], "outputs":[]},
{"cell_type":"markdown", "metadata":{}, "source":["<div class=\"mathbook-content\"><p id=\"p-4\">Important: <em class=\"emphasis\">what Sage knows and what Sage prints can often be very different!</em>  Compare Sage vector and Python tuple.</p></div>"]},
{"cell_type":    "code", "execution_count":null, "metadata":{}, "source":[""], "outputs":[]},
{"cell_type":"markdown", "metadata":{}, "source":["<div class=\"mathbook-content\"><p id=\"p-5\">Tab-completion on matrix to see available functions. “dot-tab”</p></div>"]},
{"cell_type":"markdown", "metadata":{}, "source":["<div class=\"mathbook-content\"><p id=\"p-6\">Single question-mark on method, and run, to see documentation/help. “question-shift-enter”</p></div>"]},
{"cell_type":"markdown", "metadata":{}, "source":["<div class=\"mathbook-content\"><p id=\"p-7\">Double question-mark on method, and run, to see source code. “question-question-shift-enter”</p></div>"]},
{"cell_type":    "code", "execution_count":null, "metadata":{}, "source":[""], "outputs":[]},
{"cell_type":"markdown", "metadata":{}, "source":["<div class=\"mathbook-content\"><p id=\"p-8\">Illustrate common error of not using parentheses on method name, such as <code class=\"code-inline tex2jax_ignore\">.transpose</code>.</p></div>"]},
{"cell_type":    "code", "execution_count":null, "metadata":{}, "source":[""], "outputs":[]},
{"cell_type":"markdown", "metadata":{}, "source":["<div class=\"mathbook-content\"><p id=\"p-9\">Reprise system of equations from earlier, using <code class=\"code-inline tex2jax_ignore\">.augment()</code>.  Note: definitions appear to “not do anything!” (Because we did not request any output!)  This is Lab Frequently Asked Question \\#1.</p></div>"]},
{"cell_type":    "code", "execution_count":null, "metadata":{}, "source":["A = matrix(QQ, 4, 5,\n           [[5 , 10 , -1 , 1 , 18 ],\n            [-4 , -8 , 4 , 3 , -10],\n            [1 , 2 , -1 , -1 , 2],\n            [-3 , -6 , 2 , 1 , -9]])"], "outputs":[]},
{"cell_type":    "code", "execution_count":null, "metadata":{}, "source":["v = vector(QQ, 4, [-3, 2, 1, 2])\nw = vector(QQ, 4, [3, 3, -1, 4])"], "outputs":[]}
],
"nbformat": 4, "nbformat_minor": 0, "metadata": {"kernelspec": {"display_name": "", "name": "sagemath"}, "language_info": {"codemirror_mode": {"name": "ipython", "version": 2}, "file_extension": ".py", "mimetype": "text/x-python", "name": "python", "nbconvert_exporter": "python", "pygments_lexer": "ipython2", "version": "2.7.8"}, "name": "index.ipynb"}
}