{
 "cells": [
  {
   "cell_type": "code",
   "execution_count": 1,
   "metadata": {
    "collapsed": false,
    "deletable": true,
    "editable": true
   },
   "outputs": [
    {
     "data": {
      "text/html": [
       "<link href=\"http://mathbook.pugetsound.edu/beta/mathbook-content.css\" rel=\"stylesheet\" type=\"text/css\" />\n",
       "<link href=\"https://aimath.org/mathbook/mathbook-add-on.css\" rel=\"stylesheet\" type=\"text/css\" />\n",
       "<link href=\"https://fonts.googleapis.com/css?family=Open+Sans:400,400italic,600,600italic\" rel=\"stylesheet\" type=\"text/css\" />\n",
       "<link href=\"https://fonts.googleapis.com/css?family=Inconsolata:400,700&subset=latin,latin-ext\" rel=\"stylesheet\" type=\"text/css\" /><!-- Hide this cell. -->\n",
       "<script>\n",
       "var cell = $(\".container .cell\").eq(0), ia = cell.find(\".input_area\")\n",
       "if (cell.find(\".toggle-button\").length == 0) {\n",
       "ia.after(\n",
       "    $('<button class=\"toggle-button\">Toggle hidden code</button>').click(\n",
       "        function (){ ia.toggle() }\n",
       "        )\n",
       "    )\n",
       "ia.hide()\n",
       "}\n",
       "</script>"
      ],
      "text/plain": [
       "<IPython.core.display.HTML object>"
      ]
     },
     "metadata": {},
     "output_type": "display_data"
    }
   ],
   "source": [
    "%%html\n",
    "<link href=\"http://mathbook.pugetsound.edu/beta/mathbook-content.css\" rel=\"stylesheet\" type=\"text/css\" />\n",
    "<link href=\"https://aimath.org/mathbook/mathbook-add-on.css\" rel=\"stylesheet\" type=\"text/css\" />\n",
    "<link href=\"https://fonts.googleapis.com/css?family=Open+Sans:400,400italic,600,600italic\" rel=\"stylesheet\" type=\"text/css\" />\n",
    "<link href=\"https://fonts.googleapis.com/css?family=Inconsolata:400,700&subset=latin,latin-ext\" rel=\"stylesheet\" type=\"text/css\" /><!-- Hide this cell. -->\n",
    "<script>\n",
    "var cell = $(\".container .cell\").eq(0), ia = cell.find(\".input_area\")\n",
    "if (cell.find(\".toggle-button\").length == 0) {\n",
    "ia.after(\n",
    "    $('<button class=\"toggle-button\">Toggle hidden code</button>').click(\n",
    "        function (){ ia.toggle() }\n",
    "        )\n",
    "    )\n",
    "ia.hide()\n",
    "}\n",
    "</script>\n"
   ]
  },
  {
   "cell_type": "markdown",
   "metadata": {
    "deletable": true,
    "editable": true
   },
   "source": [
    "**Important:** to view this notebook properly you will need to execute the cell above, which assumes you have an Internet connection.  It should already be selected, or place your cursor anywhere above to select.  Then press the \"Run\" button in the menu bar above (the right-pointing arrowhead), or press Shift-Enter on your keyboard."
   ]
  },
  {
   "cell_type": "markdown",
   "metadata": {
    "deletable": true,
    "editable": true
   },
   "source": [
    "$\n",
    "\\newcommand{\\lt}{<}\n",
    "\\newcommand{\\gt}{>}\n",
    "\\newcommand{\\amp}{&}\n",
    "$"
   ]
  },
  {
   "cell_type": "markdown",
   "metadata": {
    "deletable": true,
    "editable": true
   },
   "source": [
    "<div class=\"mathbook-content\"><h1 class=\"heading\"><span class=\"title\">3-2: Generalized Eigenspaces</span></h1><div class=\"author\"><div class=\"author-name\">Robert A. Beezer</div><div class=\"author-info\" /></div></div>"
   ]
  },
  {
   "cell_type": "markdown",
   "metadata": {
    "deletable": true,
    "editable": true
   },
   "source": [
    "<div class=\"mathbook-content\"><p id=\"p-1\">Compute: </p><ol class=\"decimal\"><li id=\"li-1\">Eigenvalues (two distinct)</li><li id=\"li-2\">Nullities of kernels of consequent singular matrices</li><li id=\"li-3\">Generalized eigenspaces as examples of invariant subspaces</li></ol></div>"
   ]
  },
  {
   "cell_type": "code",
   "execution_count": 1,
   "metadata": {
    "collapsed": false,
    "deletable": true,
    "editable": true
   },
   "outputs": [
    {
     "data": {
      "text/plain": [
       "[  50  -10   17  -21    7    6    1  -37   -8  -10   10  -14   27   39    8]\n",
       "[ 186 -207  -36 -184  -74  -71  -54  -22   -1  -93   38  -11   56  187   14]\n",
       "[   3   16    9  -10  -11    8   -4  -24    4   -6    2  -14   13    6   -2]\n",
       "[-132  202   62  162   83   77   58  -23  -14   86  -28   -4  -22 -149   -3]\n",
       "[ 213 -237  -41 -218  -94  -82  -65  -30    2 -111   45  -16   69  216   13]\n",
       "[-608  549   27  552  195  173  139  178   34  266 -124   72 -239 -574  -57]\n",
       "[ 253 -299  -57 -274 -125 -108  -83  -26    3 -137   52  -15   79  258   15]\n",
       "[-196  175    0  170   50   56   38   58   21   76  -38   18  -76 -176  -23]\n",
       "[ 704 -651  -40 -649 -233 -206 -167 -197  -35 -313  143  -80  272  668   64]\n",
       "[ 322 -238   25 -251  -53  -62  -51 -126  -39 -112   62  -43  139  283   42]\n",
       "[-536  411  -28  449  129  115   98  211   52  207 -105   79 -236 -482  -61]\n",
       "[ 170 -190  -25 -165  -58  -67  -45  -20  -11  -77   32   -4   51  163   17]\n",
       "[   1   14    9   10    9    7    6   -7   -4    5    0   -1    7   -4    1]\n",
       "[ 223 -195   -1 -201  -64  -61  -49  -71  -20  -92   43  -26   91  206   25]\n",
       "[ -58    4  -27   29   -7  -10    1   53   12   12  -11   20  -39  -45  -10]"
      ]
     },
     "execution_count": 1,
     "metadata": {},
     "output_type": "execute_result"
    }
   ],
   "source": [
    "A = matrix(QQ, \n",
    "[[50, -10, 17, -21, 7, 6, 1, -37, -8, -10, 10, -14, 27, 39, 8], \n",
    "[186, -207, -36, -184, -74, -71, -54, -22, -1, -93, 38, -11, 56, 187, 14], \n",
    "[3, 16, 9, -10, -11, 8, -4, -24, 4, -6, 2, -14, 13, 6, -2], \n",
    "[-132, 202, 62, 162, 83, 77, 58, -23, -14, 86, -28, -4, -22, -149, -3], \n",
    "[213, -237, -41, -218, -94, -82, -65, -30, 2, -111, 45, -16, 69, 216, 13], \n",
    "[-608, 549, 27, 552, 195, 173, 139, 178, 34, 266, -124, 72, -239, -574, -57], \n",
    "[253, -299, -57, -274, -125, -108, -83, -26, 3, -137, 52, -15, 79, 258, 15], \n",
    "[-196, 175, 0, 170, 50, 56, 38, 58, 21, 76, -38, 18, -76, -176, -23], \n",
    "[704, -651, -40, -649, -233, -206, -167, -197, -35, -313, 143, -80, 272, 668, 64], \n",
    "[322, -238, 25, -251, -53, -62, -51, -126, -39, -112, 62, -43, 139, 283, 42], \n",
    "[-536, 411, -28, 449, 129, 115, 98, 211, 52, 207, -105, 79, -236, -482, -61], \n",
    "[170, -190, -25, -165, -58, -67, -45, -20, -11, -77, 32, -4, 51, 163, 17], \n",
    "[1, 14, 9, 10, 9, 7, 6, -7, -4, 5, 0, -1, 7, -4, 1], \n",
    "[223, -195, -1, -201, -64, -61, -49, -71, -20, -92, 43, -26, 91, 206, 25], \n",
    "[-58, 4, -27, 29, -7, -10, 1, 53, 12, 12, -11, 20, -39, -45, -10]\n",
    "])\n",
    "A"
   ]
  },
  {
   "cell_type": "code",
   "execution_count": 3,
   "metadata": {
    "collapsed": false,
    "deletable": true,
    "editable": true
   },
   "outputs": [
    {
     "data": {
      "text/plain": [
       "[-1, -1, -1, -1, -1, 2, 2, 2, 2, 2, 2, 2, 2, 2, 2]"
      ]
     },
     "execution_count": 3,
     "metadata": {},
     "output_type": "execute_result"
    }
   ],
   "source": [
    "A.eigenvalues()"
   ]
  },
  {
   "cell_type": "code",
   "execution_count": 2,
   "metadata": {
    "collapsed": false,
    "deletable": true,
    "editable": true
   },
   "outputs": [
    {
     "data": {
      "text/plain": [
       "[\n",
       "(-1, Vector space of degree 15 and dimension 2 over Rational Field\n",
       "User basis matrix:\n",
       "[   1    0  5/6  1/2 -1/2  1/2 -7/6  5/6 -5/6 -1/3  1/3 -2/3 -1/2 -2/3 -2/3]\n",
       "[   0    1  5/3   -2    1    0  5/3  5/3  1/3 -5/3  5/3 -1/3   -1 -1/3 -1/3]),\n",
       "(2, Vector space of degree 15 and dimension 4 over Rational Field\n",
       "User basis matrix:\n",
       "[   1    0    0    0   -1  3/2   -1    0 -1/2  3/2    0  1/2   -1    0 -1/2]\n",
       "[   0    1    0    0  5/3   -4  4/3 -1/3  8/3 -5/3 -4/3 -1/3    1 -1/3    1]\n",
       "[   0    0    1    0  4/3   -2  2/3  4/3  4/3 -4/3 -2/3 -8/3    1 -2/3    0]\n",
       "[   0    0    0    1  2/3 -5/2  1/3 -1/3  7/6 -7/6 -4/3 -5/6    1 -1/3  1/2])\n",
       "]"
      ]
     },
     "execution_count": 2,
     "metadata": {},
     "output_type": "execute_result"
    }
   ],
   "source": [
    "A.eigenspaces_right()"
   ]
  },
  {
   "cell_type": "code",
   "execution_count": 4,
   "metadata": {
    "collapsed": false,
    "deletable": true,
    "editable": true
   },
   "outputs": [
    {
     "data": {
      "text/plain": [
       "[0, 4, 7, 8, 9, 10]"
      ]
     },
     "execution_count": 4,
     "metadata": {},
     "output_type": "execute_result"
    }
   ],
   "source": [
    "[((A-2)^k).right_kernel().dimension() for k in range(6)]"
   ]
  },
  {
   "cell_type": "code",
   "execution_count": 5,
   "metadata": {
    "collapsed": false
   },
   "outputs": [
    {
     "data": {
      "text/plain": [
       "[0, 2, 4, 5, 5, 5]"
      ]
     },
     "execution_count": 5,
     "metadata": {},
     "output_type": "execute_result"
    }
   ],
   "source": [
    "[((A+1)^k).right_kernel().dimension() for k in range(6)]"
   ]
  },
  {
   "cell_type": "code",
   "execution_count": 7,
   "metadata": {
    "collapsed": false,
    "deletable": true,
    "editable": true
   },
   "outputs": [
    {
     "data": {
      "text/plain": [
       "[-1  0  0  0  0  0  0  0  0  0  0  0  0  0  0]\n",
       "[ 0 -1  0  0  0  0  0  0  0  0  0  0  0  0  0]\n",
       "[ 0  0 -1  0  0  0  0  0  0  0  0  0  0  0  0]\n",
       "[ 0  0  0 -1  0  0  0  0  0  0  0  0  0  0  0]\n",
       "[ 0  0  0  0 -1  0  0  0  0  0  0  0  0  0  0]\n",
       "[ 0  0  0  0  0  2  0  0  0  0  0  0  0  0  0]\n",
       "[ 0  0  0  0  0  0  2  0  0  0  0  0  0  0  0]\n",
       "[ 0  0  0  0  0  0  0  2  0  0  0  0  0  0  0]\n",
       "[ 0  0  0  0  0  0  0  0  2  0  0  0  0  0  0]\n",
       "[ 0  0  0  0  0  0  0  0  0  2  0  0  0  0  0]\n",
       "[ 0  0  0  0  0  0  0  0  0  0  2  0  0  0  0]\n",
       "[ 0  0  0  0  0  0  0  0  0  0  0  2  0  0  0]\n",
       "[ 0  0  0  0  0  0  0  0  0  0  0  0  2  0  0]\n",
       "[ 0  0  0  0  0  0  0  0  0  0  0  0  0  2  0]\n",
       "[ 0  0  0  0  0  0  0  0  0  0  0  0  0  0  2]"
      ]
     },
     "execution_count": 7,
     "metadata": {},
     "output_type": "execute_result"
    }
   ],
   "source": [
    "A.eigenmatrix_right()[0]"
   ]
  },
  {
   "cell_type": "code",
   "execution_count": 8,
   "metadata": {
    "collapsed": false,
    "deletable": true,
    "editable": true
   },
   "outputs": [
    {
     "data": {
      "text/plain": [
       "[   1    0    0    0    0    1    0    0    0    0    0    0    0    0    0]\n",
       "[   0    1    0    0    0    0    1    0    0    0    0    0    0    0    0]\n",
       "[ 5/6  5/3    0    0    0    0    0    1    0    0    0    0    0    0    0]\n",
       "[ 1/2   -2    0    0    0    0    0    0    1    0    0    0    0    0    0]\n",
       "[-1/2    1    0    0    0   -1  5/3  4/3  2/3    0    0    0    0    0    0]\n",
       "[ 1/2    0    0    0    0  3/2   -4   -2 -5/2    0    0    0    0    0    0]\n",
       "[-7/6  5/3    0    0    0   -1  4/3  2/3  1/3    0    0    0    0    0    0]\n",
       "[ 5/6  5/3    0    0    0    0 -1/3  4/3 -1/3    0    0    0    0    0    0]\n",
       "[-5/6  1/3    0    0    0 -1/2  8/3  4/3  7/6    0    0    0    0    0    0]\n",
       "[-1/3 -5/3    0    0    0  3/2 -5/3 -4/3 -7/6    0    0    0    0    0    0]\n",
       "[ 1/3  5/3    0    0    0    0 -4/3 -2/3 -4/3    0    0    0    0    0    0]\n",
       "[-2/3 -1/3    0    0    0  1/2 -1/3 -8/3 -5/6    0    0    0    0    0    0]\n",
       "[-1/2   -1    0    0    0   -1    1    1    1    0    0    0    0    0    0]\n",
       "[-2/3 -1/3    0    0    0    0 -1/3 -2/3 -1/3    0    0    0    0    0    0]\n",
       "[-2/3 -1/3    0    0    0 -1/2    1    0  1/2    0    0    0    0    0    0]"
      ]
     },
     "execution_count": 8,
     "metadata": {},
     "output_type": "execute_result"
    }
   ],
   "source": [
    "A.eigenmatrix_right()[1]"
   ]
  },
  {
   "cell_type": "code",
   "execution_count": 6,
   "metadata": {
    "collapsed": false,
    "deletable": true,
    "editable": true
   },
   "outputs": [
    {
     "data": {
      "text/plain": [
       "Vector space of degree 15 and dimension 10 over Rational Field\n",
       "Basis matrix:\n",
       "[   1    0    0    0    0    0    0    0    0    0   -1   -1   -1 -1/2 -1/2]\n",
       "[   0    1    0    0    0    0    0    0    0    0   -2    3    1  3/2 -3/2]\n",
       "[   0    0    1    0    0    0    0    0    0    0   -2    0   -1    1   -1]\n",
       "[   0    0    0    1    0    0    0    0    0    0   -4    2    2  3/2 -5/2]\n",
       "[   0    0    0    0    1    0    0    0    0    0   -3    1    1    1   -3]\n",
       "[   0    0    0    0    0    1    0    0    0    0   -1    2    1  1/2 -3/2]\n",
       "[   0    0    0    0    0    0    1    0    0    0   -3    0    0    1   -1]\n",
       "[   0    0    0    0    0    0    0    1    0    0    1   -1    1 -1/2  1/2]\n",
       "[   0    0    0    0    0    0    0    0    1    0    1    1    1 -1/2  1/2]\n",
       "[   0    0    0    0    0    0    0    0    0    1   -2    0    0    1   -1]"
      ]
     },
     "execution_count": 6,
     "metadata": {},
     "output_type": "execute_result"
    }
   ],
   "source": [
    "U = ((A-2)^10).right_kernel()\n",
    "U"
   ]
  },
  {
   "cell_type": "code",
   "execution_count": 8,
   "metadata": {
    "collapsed": false
   },
   "outputs": [
    {
     "data": {
      "text/plain": [
       "Vector space of degree 15 and dimension 5 over Rational Field\n",
       "Basis matrix:\n",
       "[      1       0       0       0       0    41/4 -199/32  127/32      -9   -37/2  621/32   19/16  -37/32 -395/32    29/2]\n",
       "[      0       1       0       0       0   -45/2  181/16 -125/16      19      40 -663/16   -25/8   31/16  401/16     -32]\n",
       "[      0       0       1       0       0    -9/4   47/32   -7/32       2     7/2 -133/32  -11/16   -3/32   83/32    -7/2]\n",
       "[      0       0       0       1       0   -21/2   71/16  -63/16       9      17 -301/16   -11/8   21/16  171/16     -13]\n",
       "[      0       0       0       0       1    21/4 -103/32   63/32      -4   -27/2  397/32   19/16   -5/32 -267/32    23/2]"
      ]
     },
     "execution_count": 8,
     "metadata": {},
     "output_type": "execute_result"
    }
   ],
   "source": [
    "W = ((A+1)^5).right_kernel()\n",
    "W"
   ]
  },
  {
   "cell_type": "code",
   "execution_count": 9,
   "metadata": {
    "collapsed": false
   },
   "outputs": [
    {
     "data": {
      "text/plain": [
       "[(1, 0, 0, 0, 0, 0, 0, 0, 0, 0, -1, -1, -1, -1/2, -1/2),\n",
       " (0, 1, 0, 0, 0, 0, 0, 0, 0, 0, -2, 3, 1, 3/2, -3/2),\n",
       " (0, 0, 1, 0, 0, 0, 0, 0, 0, 0, -2, 0, -1, 1, -1),\n",
       " (0, 0, 0, 1, 0, 0, 0, 0, 0, 0, -4, 2, 2, 3/2, -5/2),\n",
       " (0, 0, 0, 0, 1, 0, 0, 0, 0, 0, -3, 1, 1, 1, -3),\n",
       " (0, 0, 0, 0, 0, 1, 0, 0, 0, 0, -1, 2, 1, 1/2, -3/2),\n",
       " (0, 0, 0, 0, 0, 0, 1, 0, 0, 0, -3, 0, 0, 1, -1),\n",
       " (0, 0, 0, 0, 0, 0, 0, 1, 0, 0, 1, -1, 1, -1/2, 1/2),\n",
       " (0, 0, 0, 0, 0, 0, 0, 0, 1, 0, 1, 1, 1, -1/2, 1/2),\n",
       " (0, 0, 0, 0, 0, 0, 0, 0, 0, 1, -2, 0, 0, 1, -1),\n",
       " (1, 0, 0, 0, 0, 41/4, -199/32, 127/32, -9, -37/2, 621/32, 19/16, -37/32, -395/32, 29/2),\n",
       " (0, 1, 0, 0, 0, -45/2, 181/16, -125/16, 19, 40, -663/16, -25/8, 31/16, 401/16, -32),\n",
       " (0, 0, 1, 0, 0, -9/4, 47/32, -7/32, 2, 7/2, -133/32, -11/16, -3/32, 83/32, -7/2),\n",
       " (0, 0, 0, 1, 0, -21/2, 71/16, -63/16, 9, 17, -301/16, -11/8, 21/16, 171/16, -13),\n",
       " (0, 0, 0, 0, 1, 21/4, -103/32, 63/32, -4, -27/2, 397/32, 19/16, -5/32, -267/32, 23/2)]"
      ]
     },
     "execution_count": 9,
     "metadata": {},
     "output_type": "execute_result"
    }
   ],
   "source": [
    "B = U.basis() + W.basis()\n",
    "B"
   ]
  },
  {
   "cell_type": "code",
   "execution_count": 10,
   "metadata": {
    "collapsed": true
   },
   "outputs": [],
   "source": [
    "X = (QQ^15).subspace_with_basis(B)"
   ]
  },
  {
   "cell_type": "code",
   "execution_count": 14,
   "metadata": {
    "collapsed": false
   },
   "outputs": [
    {
     "data": {
      "text/html": [
       "<html><script type=\"math/tex; mode=display\">\\newcommand{\\Bold}[1]{\\mathbf{#1}}\\left(\\begin{array}{rrrrrrrrrrrrrrr}\n",
       "3.5 & 1.5 & 1.0 & 3.5 & 5.0 & 2.5 & 2.0 & -1.5 & -0.5 & 1.0 & 0.0 & 0.0 & 0.0 & 0.0 & 0.0 \\\\\n",
       "2.5 & -0.5 & 5.0 & -0.5 & 2.0 & -2.5 & 5.0 & -3.5 & -4.5 & 4.0 & 0.0 & 0.0 & 0.0 & 0.0 & 0.0 \\\\\n",
       "0.0 & -5.0 & 0.0 & -6.0 & -6.0 & -3.0 & -2.0 & 1.0 & 1.0 & -2.0 & 0.0 & 0.0 & 0.0 & 0.0 & 0.0 \\\\\n",
       "-2.0 & 5.0 & -6.0 & 6.0 & 1.0 & 5.0 & -4.0 & 4.0 & 5.0 & -4.0 & 0.0 & 0.0 & 0.0 & 0.0 & 0.0 \\\\\n",
       "0.5 & -1.5 & 3.0 & -0.5 & 1.0 & -1.5 & 3.0 & -1.5 & -1.5 & 2.0 & 0.0 & 0.0 & 0.0 & 0.0 & 0.0 \\\\\n",
       "-1.5 & -1.5 & -3.0 & -4.5 & -3.0 & 0.5 & -6.0 & 1.5 & 1.5 & -3.0 & 0.0 & 0.0 & 0.0 & 0.0 & 0.0 \\\\\n",
       "0.5 & -4.5 & 3.0 & -4.5 & -4.0 & -4.5 & 4.0 & -1.5 & -2.5 & 2.0 & 0.0 & 0.0 & 0.0 & 0.0 & 0.0 \\\\\n",
       "-0.5 & -0.5 & -1.0 & -0.5 & -1.0 & 0.5 & -1.0 & 2.5 & 1.5 & -1.0 & 0.0 & 0.0 & 0.0 & 0.0 & 0.0 \\\\\n",
       "3.0 & 1.0 & 6.0 & 5.0 & 6.0 & 1.0 & 8.0 & -4.0 & -2.0 & 5.0 & 0.0 & 0.0 & 0.0 & 0.0 & 0.0 \\\\\n",
       "1.5 & 9.5 & 3.0 & 12.5 & 14.0 & 7.5 & 4.0 & -2.5 & -1.5 & 5.0 & 0.0 & 0.0 & 0.0 & 0.0 & 0.0 \\\\\n",
       "0.0 & 0.0 & 0.0 & 0.0 & 0.0 & 0.0 & 0.0 & 0.0 & 0.0 & 0.0 & -3.75 & 6.5 & 0.75 & 3.5 & -0.75 \\\\\n",
       "0.0 & 0.0 & 0.0 & 0.0 & 0.0 & 0.0 & 0.0 & 0.0 & 0.0 & 0.0 & -9.41 & 19.44 & 2.16 & 8.81 & -6.41 \\\\\n",
       "0.0 & 0.0 & 0.0 & 0.0 & 0.0 & 0.0 & 0.0 & 0.0 & 0.0 & 0.0 & -6.28 & 14.69 & 0.03 & 5.56 & -5.28 \\\\\n",
       "0.0 & 0.0 & 0.0 & 0.0 & 0.0 & 0.0 & 0.0 & 0.0 & 0.0 & 0.0 & 13.31 & -28.88 & -2.81 & -12.62 & 10.31 \\\\\n",
       "0.0 & 0.0 & 0.0 & 0.0 & 0.0 & 0.0 & 0.0 & 0.0 & 0.0 & 0.0 & -10.09 & 21.56 & 2.34 & 9.19 & -8.09\n",
       "\\end{array}\\right)</script></html>"
      ],
      "text/plain": [
       "[   3.5    1.5    1.0    3.5    5.0    2.5    2.0   -1.5   -0.5    1.0    0.0    0.0    0.0    0.0    0.0]\n",
       "[   2.5   -0.5    5.0   -0.5    2.0   -2.5    5.0   -3.5   -4.5    4.0    0.0    0.0    0.0    0.0    0.0]\n",
       "[   0.0   -5.0    0.0   -6.0   -6.0   -3.0   -2.0    1.0    1.0   -2.0    0.0    0.0    0.0    0.0    0.0]\n",
       "[  -2.0    5.0   -6.0    6.0    1.0    5.0   -4.0    4.0    5.0   -4.0    0.0    0.0    0.0    0.0    0.0]\n",
       "[   0.5   -1.5    3.0   -0.5    1.0   -1.5    3.0   -1.5   -1.5    2.0    0.0    0.0    0.0    0.0    0.0]\n",
       "[  -1.5   -1.5   -3.0   -4.5   -3.0    0.5   -6.0    1.5    1.5   -3.0    0.0    0.0    0.0    0.0    0.0]\n",
       "[   0.5   -4.5    3.0   -4.5   -4.0   -4.5    4.0   -1.5   -2.5    2.0    0.0    0.0    0.0    0.0    0.0]\n",
       "[  -0.5   -0.5   -1.0   -0.5   -1.0    0.5   -1.0    2.5    1.5   -1.0    0.0    0.0    0.0    0.0    0.0]\n",
       "[   3.0    1.0    6.0    5.0    6.0    1.0    8.0   -4.0   -2.0    5.0    0.0    0.0    0.0    0.0    0.0]\n",
       "[   1.5    9.5    3.0   12.5   14.0    7.5    4.0   -2.5   -1.5    5.0    0.0    0.0    0.0    0.0    0.0]\n",
       "[   0.0    0.0    0.0    0.0    0.0    0.0    0.0    0.0    0.0    0.0  -3.75    6.5   0.75    3.5  -0.75]\n",
       "[   0.0    0.0    0.0    0.0    0.0    0.0    0.0    0.0    0.0    0.0  -9.41  19.44   2.16   8.81  -6.41]\n",
       "[   0.0    0.0    0.0    0.0    0.0    0.0    0.0    0.0    0.0    0.0  -6.28  14.69   0.03   5.56  -5.28]\n",
       "[   0.0    0.0    0.0    0.0    0.0    0.0    0.0    0.0    0.0    0.0  13.31 -28.88  -2.81 -12.62  10.31]\n",
       "[   0.0    0.0    0.0    0.0    0.0    0.0    0.0    0.0    0.0    0.0 -10.09  21.56   2.34   9.19  -8.09]"
      ]
     },
     "metadata": {},
     "output_type": "display_data"
    }
   ],
   "source": [
    "show(column_matrix([X.coordinate_vector(A*b) for b in B]).change_ring(RDF).round(2))"
   ]
  },
  {
   "cell_type": "code",
   "execution_count": null,
   "metadata": {
    "collapsed": true
   },
   "outputs": [],
   "source": []
  }
 ],
 "metadata": {
  "kernelspec": {
   "display_name": "SageMath 8.1",
   "language": "",
   "name": "sagemath"
  },
  "language_info": {
   "codemirror_mode": {
    "name": "ipython",
    "version": 2
   },
   "file_extension": ".py",
   "mimetype": "text/x-python",
   "name": "python",
   "nbconvert_exporter": "python",
   "pygments_lexer": "ipython2",
   "version": "2.7.14"
  },
  "name": "index.ipynb"
 },
 "nbformat": 4,
 "nbformat_minor": 0
}
