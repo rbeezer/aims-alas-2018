{
"cells": [
{"cell_type":    "code", "execution_count":null, "metadata":{}, "source":["%%html\n<link href=\"http://mathbook.pugetsound.edu/beta/mathbook-content.css\" rel=\"stylesheet\" type=\"text/css\" />\n<link href=\"https://aimath.org/mathbook/mathbook-add-on.css\" rel=\"stylesheet\" type=\"text/css\" />\n<link href=\"https://fonts.googleapis.com/css?family=Open+Sans:400,400italic,600,600italic\" rel=\"stylesheet\" type=\"text/css\" />\n<link href=\"https://fonts.googleapis.com/css?family=Inconsolata:400,700&subset=latin,latin-ext\" rel=\"stylesheet\" type=\"text/css\" /><!-- Hide this cell. -->\n<script>\nvar cell = $(\".container .cell\").eq(0), ia = cell.find(\".input_area\")\nif (cell.find(\".toggle-button\").length == 0) {\nia.after(\n    $('<button class=\"toggle-button\">Toggle hidden code</button>').click(\n        function (){ ia.toggle() }\n        )\n    )\nia.hide()\n}\n</script>\n"], "outputs":[]},
{"cell_type":"markdown", "metadata":{}, "source":["**Important:** to view this notebook properly you will need to execute the cell above, which assumes you have an Internet connection.  It should already be selected, or place your cursor anywhere above to select.  Then press the \"Run\" button in the menu bar above (the right-pointing arrowhead), or press Shift-Enter on your keyboard."]},
{"cell_type":"markdown", "metadata":{}, "source":["$\n\\newcommand{\\lt}{<}\n\\newcommand{\\gt}{>}\n\\newcommand{\\amp}{&}\n$"]},
{"cell_type":"markdown", "metadata":{}, "source":["<div class=\"mathbook-content\"><h1 class=\"heading\"><span class=\"title\">2-3: SVD and Numerical Rank</span></h1><div class=\"author\"><div class=\"author-name\">Robert A. Beezer</div><div class=\"author-info\" /></div></div>"]},
{"cell_type":"markdown", "metadata":{}, "source":["<div class=\"mathbook-content\"><h6 class=\"heading\"><span class=\"title\">Exact versus Inexact/Numerical</span></h6></div>"]},
{"cell_type":"markdown", "metadata":{}, "source":["<div class=\"mathbook-content\"><p id=\"p-1\">A largish random matrix, but with lots of linear dependence.</p></div>"]},
{"cell_type":    "code", "execution_count":null, "metadata":{}, "source":["n = 40"], "outputs":[]},
{"cell_type":    "code", "execution_count":null, "metadata":{}, "source":["A = random_matrix(QQ, n, algorithm='echelonizable', rank=20)\nprint A.str()"], "outputs":[]},
{"cell_type":"markdown", "metadata":{}, "source":["<div class=\"mathbook-content\"><p id=\"p-2\">Rank.  Exactly.</p></div>"]},
{"cell_type":    "code", "execution_count":null, "metadata":{}, "source":["A.rank()"], "outputs":[]},
{"cell_type":"markdown", "metadata":{}, "source":["<div class=\"mathbook-content\"><p id=\"p-3\">Row-reduced.</p></div>"]},
{"cell_type":    "code", "execution_count":null, "metadata":{}, "source":["print A.rref().str()"], "outputs":[]},
{"cell_type":"markdown", "metadata":{}, "source":["<div class=\"mathbook-content\"><p id=\"p-4\">Now, go inexact, use floating-point approximations for all computations.</p></div>"]},
{"cell_type":    "code", "execution_count":null, "metadata":{}, "source":["B = A.change_ring(RDF)"], "outputs":[]},
{"cell_type":"markdown", "metadata":{}, "source":["<div class=\"mathbook-content\"><p id=\"p-5\">Rank.  Wrong.  Embarassing.</p></div>"]},
{"cell_type":    "code", "execution_count":null, "metadata":{}, "source":["B.rank()"], "outputs":[]},
{"cell_type":"markdown", "metadata":{}, "source":["<div class=\"mathbook-content\"><p id=\"p-6\">Row-reduced. Wrong too.</p></div>"]},
{"cell_type":    "code", "execution_count":null, "metadata":{}, "source":["print B.rref().str()"], "outputs":[]},
{"cell_type":"markdown", "metadata":{}, "source":["<div class=\"mathbook-content\"><p id=\"p-7\">What to do?</p></div>"]},
{"cell_type":"markdown", "metadata":{}, "source":["<div class=\"mathbook-content\"><h6 class=\"heading\"><span class=\"title\">SVD to the Rescue</span></h6></div>"]},
{"cell_type":"markdown", "metadata":{}, "source":["<div class=\"mathbook-content\"><p id=\"p-8\">Look at “nonzero” singular values of the matrix.</p></div>"]},
{"cell_type":    "code", "execution_count":null, "metadata":{}, "source":["U, S, V = B.SVD()"], "outputs":[]},
{"cell_type":    "code", "execution_count":null, "metadata":{}, "source":["[S[i,i] for i in range(n)]"], "outputs":[]},
{"cell_type":"markdown", "metadata":{}, "source":["<div class=\"mathbook-content\"><p id=\"p-9\">Are 20 zero and 20 nonzero?</p></div>"]}
],
"nbformat": 4, "nbformat_minor": 0, "metadata": {"kernelspec": {"display_name": "", "name": "sagemath"}, "language_info": {"codemirror_mode": {"name": "ipython", "version": 2}, "file_extension": ".py", "mimetype": "text/x-python", "name": "python", "nbconvert_exporter": "python", "pygments_lexer": "ipython2", "version": "2.7.8"}, "name": "index.ipynb"}
}