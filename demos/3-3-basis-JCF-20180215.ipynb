{
 "cells": [
  {
   "cell_type": "code",
   "execution_count": 1,
   "metadata": {
    "collapsed": false,
    "deletable": true,
    "editable": true
   },
   "outputs": [
    {
     "data": {
      "text/html": [
       "<link href=\"http://mathbook.pugetsound.edu/beta/mathbook-content.css\" rel=\"stylesheet\" type=\"text/css\" />\n",
       "<link href=\"https://aimath.org/mathbook/mathbook-add-on.css\" rel=\"stylesheet\" type=\"text/css\" />\n",
       "<link href=\"https://fonts.googleapis.com/css?family=Open+Sans:400,400italic,600,600italic\" rel=\"stylesheet\" type=\"text/css\" />\n",
       "<link href=\"https://fonts.googleapis.com/css?family=Inconsolata:400,700&subset=latin,latin-ext\" rel=\"stylesheet\" type=\"text/css\" /><!-- Hide this cell. -->\n",
       "<script>\n",
       "var cell = $(\".container .cell\").eq(0), ia = cell.find(\".input_area\")\n",
       "if (cell.find(\".toggle-button\").length == 0) {\n",
       "ia.after(\n",
       "    $('<button class=\"toggle-button\">Toggle hidden code</button>').click(\n",
       "        function (){ ia.toggle() }\n",
       "        )\n",
       "    )\n",
       "ia.hide()\n",
       "}\n",
       "</script>"
      ],
      "text/plain": [
       "<IPython.core.display.HTML object>"
      ]
     },
     "metadata": {},
     "output_type": "display_data"
    }
   ],
   "source": [
    "%%html\n",
    "<link href=\"http://mathbook.pugetsound.edu/beta/mathbook-content.css\" rel=\"stylesheet\" type=\"text/css\" />\n",
    "<link href=\"https://aimath.org/mathbook/mathbook-add-on.css\" rel=\"stylesheet\" type=\"text/css\" />\n",
    "<link href=\"https://fonts.googleapis.com/css?family=Open+Sans:400,400italic,600,600italic\" rel=\"stylesheet\" type=\"text/css\" />\n",
    "<link href=\"https://fonts.googleapis.com/css?family=Inconsolata:400,700&subset=latin,latin-ext\" rel=\"stylesheet\" type=\"text/css\" /><!-- Hide this cell. -->\n",
    "<script>\n",
    "var cell = $(\".container .cell\").eq(0), ia = cell.find(\".input_area\")\n",
    "if (cell.find(\".toggle-button\").length == 0) {\n",
    "ia.after(\n",
    "    $('<button class=\"toggle-button\">Toggle hidden code</button>').click(\n",
    "        function (){ ia.toggle() }\n",
    "        )\n",
    "    )\n",
    "ia.hide()\n",
    "}\n",
    "</script>\n"
   ]
  },
  {
   "cell_type": "markdown",
   "metadata": {
    "deletable": true,
    "editable": true
   },
   "source": [
    "**Important:** to view this notebook properly you will need to execute the cell above, which assumes you have an Internet connection.  It should already be selected, or place your cursor anywhere above to select.  Then press the \"Run\" button in the menu bar above (the right-pointing arrowhead), or press Shift-Enter on your keyboard."
   ]
  },
  {
   "cell_type": "markdown",
   "metadata": {
    "deletable": true,
    "editable": true
   },
   "source": [
    "$\n",
    "\\newcommand{\\lt}{<}\n",
    "\\newcommand{\\gt}{>}\n",
    "\\newcommand{\\amp}{&}\n",
    "$"
   ]
  },
  {
   "cell_type": "markdown",
   "metadata": {
    "deletable": true,
    "editable": true
   },
   "source": [
    "<div class=\"mathbook-content\"><h1 class=\"heading\"><span class=\"title\">3-3: Basis Jordan Canonical Form</span></h1><div class=\"author\"><div class=\"author-name\">Robert A. Beezer</div><div class=\"author-info\" /></div></div>"
   ]
  },
  {
   "cell_type": "markdown",
   "metadata": {
    "deletable": true,
    "editable": true
   },
   "source": [
    "<div class=\"mathbook-content\"><p id=\"p-1\">Compute the basis vectors for Jordan canonical form for the eigenvalue $\\lambda=2\\text{.}$  Use any basis for the generalized eigenspace of $\\lambda=-1\\text{,}$ to simply achieve the block diagonal form.</p></div>"
   ]
  },
  {
   "cell_type": "markdown",
   "metadata": {
    "deletable": true,
    "editable": true
   },
   "source": [
    "<div class=\"mathbook-content\"><p id=\"p-2\">We begin with a large-ish matrix, to demonstrate the most general situations.</p></div>"
   ]
  },
  {
   "cell_type": "code",
   "execution_count": 2,
   "metadata": {
    "collapsed": false,
    "deletable": true,
    "editable": true
   },
   "outputs": [
    {
     "data": {
      "text/plain": [
       "[  50  -10   17  -21    7    6    1  -37   -8  -10   10  -14   27   39    8]\n",
       "[ 186 -207  -36 -184  -74  -71  -54  -22   -1  -93   38  -11   56  187   14]\n",
       "[   3   16    9  -10  -11    8   -4  -24    4   -6    2  -14   13    6   -2]\n",
       "[-132  202   62  162   83   77   58  -23  -14   86  -28   -4  -22 -149   -3]\n",
       "[ 213 -237  -41 -218  -94  -82  -65  -30    2 -111   45  -16   69  216   13]\n",
       "[-608  549   27  552  195  173  139  178   34  266 -124   72 -239 -574  -57]\n",
       "[ 253 -299  -57 -274 -125 -108  -83  -26    3 -137   52  -15   79  258   15]\n",
       "[-196  175    0  170   50   56   38   58   21   76  -38   18  -76 -176  -23]\n",
       "[ 704 -651  -40 -649 -233 -206 -167 -197  -35 -313  143  -80  272  668   64]\n",
       "[ 322 -238   25 -251  -53  -62  -51 -126  -39 -112   62  -43  139  283   42]\n",
       "[-536  411  -28  449  129  115   98  211   52  207 -105   79 -236 -482  -61]\n",
       "[ 170 -190  -25 -165  -58  -67  -45  -20  -11  -77   32   -4   51  163   17]\n",
       "[   1   14    9   10    9    7    6   -7   -4    5    0   -1    7   -4    1]\n",
       "[ 223 -195   -1 -201  -64  -61  -49  -71  -20  -92   43  -26   91  206   25]\n",
       "[ -58    4  -27   29   -7  -10    1   53   12   12  -11   20  -39  -45  -10]"
      ]
     },
     "execution_count": 2,
     "metadata": {},
     "output_type": "execute_result"
    }
   ],
   "source": [
    "A = matrix(QQ, \n",
    "[[50, -10, 17, -21, 7, 6, 1, -37, -8, -10, 10, -14, 27, 39, 8], \n",
    "[186, -207, -36, -184, -74, -71, -54, -22, -1, -93, 38, -11, 56, 187, 14], \n",
    "[3, 16, 9, -10, -11, 8, -4, -24, 4, -6, 2, -14, 13, 6, -2], \n",
    "[-132, 202, 62, 162, 83, 77, 58, -23, -14, 86, -28, -4, -22, -149, -3], \n",
    "[213, -237, -41, -218, -94, -82, -65, -30, 2, -111, 45, -16, 69, 216, 13], \n",
    "[-608, 549, 27, 552, 195, 173, 139, 178, 34, 266, -124, 72, -239, -574, -57], \n",
    "[253, -299, -57, -274, -125, -108, -83, -26, 3, -137, 52, -15, 79, 258, 15], \n",
    "[-196, 175, 0, 170, 50, 56, 38, 58, 21, 76, -38, 18, -76, -176, -23], \n",
    "[704, -651, -40, -649, -233, -206, -167, -197, -35, -313, 143, -80, 272, 668, 64], \n",
    "[322, -238, 25, -251, -53, -62, -51, -126, -39, -112, 62, -43, 139, 283, 42], \n",
    "[-536, 411, -28, 449, 129, 115, 98, 211, 52, 207, -105, 79, -236, -482, -61], \n",
    "[170, -190, -25, -165, -58, -67, -45, -20, -11, -77, 32, -4, 51, 163, 17], \n",
    "[1, 14, 9, 10, 9, 7, 6, -7, -4, 5, 0, -1, 7, -4, 1], \n",
    "[223, -195, -1, -201, -64, -61, -49, -71, -20, -92, 43, -26, 91, 206, 25], \n",
    "[-58, 4, -27, 29, -7, -10, 1, 53, 12, 12, -11, 20, -39, -45, -10]\n",
    "])\n",
    "A"
   ]
  },
  {
   "cell_type": "markdown",
   "metadata": {
    "deletable": true,
    "editable": true
   },
   "source": [
    "<div class=\"mathbook-content\"><p id=\"p-3\">Eigenvalues first, a nontrivial computation.  In this example, they are all integers, which is atypical.</p></div>"
   ]
  },
  {
   "cell_type": "code",
   "execution_count": 3,
   "metadata": {
    "collapsed": false,
    "deletable": true,
    "editable": true
   },
   "outputs": [
    {
     "data": {
      "text/plain": [
       "[-1, -1, -1, -1, -1, 2, 2, 2, 2, 2, 2, 2, 2, 2, 2]"
      ]
     },
     "execution_count": 3,
     "metadata": {},
     "output_type": "execute_result"
    }
   ],
   "source": [
    "A.eigenvalues()"
   ]
  },
  {
   "cell_type": "markdown",
   "metadata": {
    "deletable": true,
    "editable": true
   },
   "source": [
    "<div class=\"mathbook-content\"><p id=\"p-4\">We will work with $\\lambda=2\\text{,}$ leaving $\\lambda=-1$ for you to experiment with.  With algebraic multiplicity $\\alpha_A(2)=10\\text{,}$ we know the (invariant) generalized eigenspace for $\\lambda=2$ has dimension $10\\text{.}$  We also know that $A-2I_{15}$ is a nilpotent matrix.  We do not know the index yet, but we know we only have to look as far as the tenth power.</p></div>"
   ]
  },
  {
   "cell_type": "code",
   "execution_count": 4,
   "metadata": {
    "collapsed": false,
    "deletable": true,
    "editable": true
   },
   "outputs": [
    {
     "data": {
      "text/plain": [
       "[0, 4, 7, 8, 9, 10, 10, 10, 10, 10, 10]"
      ]
     },
     "execution_count": 4,
     "metadata": {},
     "output_type": "execute_result"
    }
   ],
   "source": [
    "[((A-2)^i).nullity() for i in range(11)]"
   ]
  },
  {
   "cell_type": "markdown",
   "metadata": {
    "deletable": true,
    "editable": true
   },
   "source": [
    "<div class=\"mathbook-content\"><p id=\"p-5\">So the kernels of the powers of $A-2I_{15}$ “top out” at the fifth power, so the index is $\\iota_A(2)=5\\text{.}$</p></div>"
   ]
  },
  {
   "cell_type": "code",
   "execution_count": 6,
   "metadata": {
    "collapsed": false,
    "deletable": true,
    "editable": true
   },
   "outputs": [],
   "source": [
    "T = A-2"
   ]
  },
  {
   "cell_type": "code",
   "execution_count": 11,
   "metadata": {
    "collapsed": true
   },
   "outputs": [],
   "source": [
    "K5 = (T^5).right_kernel()"
   ]
  },
  {
   "cell_type": "code",
   "execution_count": 12,
   "metadata": {
    "collapsed": true
   },
   "outputs": [],
   "source": [
    "x10 = K5.basis()[-1]"
   ]
  },
  {
   "cell_type": "code",
   "execution_count": 13,
   "metadata": {
    "collapsed": true
   },
   "outputs": [],
   "source": [
    "x9 = T*x10"
   ]
  },
  {
   "cell_type": "code",
   "execution_count": 14,
   "metadata": {
    "collapsed": true
   },
   "outputs": [],
   "source": [
    "x8=T*x9"
   ]
  },
  {
   "cell_type": "code",
   "execution_count": 15,
   "metadata": {
    "collapsed": true
   },
   "outputs": [],
   "source": [
    "x7=T*x8"
   ]
  },
  {
   "cell_type": "code",
   "execution_count": 16,
   "metadata": {
    "collapsed": true
   },
   "outputs": [],
   "source": [
    "x6=T*x7"
   ]
  },
  {
   "cell_type": "code",
   "execution_count": 17,
   "metadata": {
    "collapsed": false
   },
   "outputs": [
    {
     "data": {
      "text/plain": [
       "(0, 0, 0, 0, 0, 0, 0, 0, 0, 0, 0, 0, 0, 0, 0)"
      ]
     },
     "execution_count": 17,
     "metadata": {},
     "output_type": "execute_result"
    }
   ],
   "source": [
    "T*x6"
   ]
  },
  {
   "cell_type": "code",
   "execution_count": 18,
   "metadata": {
    "collapsed": true
   },
   "outputs": [],
   "source": [
    "x5 = K2.basis()[-1]\n",
    "x3 = K2.basis()[-2]"
   ]
  },
  {
   "cell_type": "code",
   "execution_count": 19,
   "metadata": {
    "collapsed": false
   },
   "outputs": [
    {
     "data": {
      "text/plain": [
       "Vector space of degree 15 and dimension 3 over Rational Field\n",
       "Basis matrix:\n",
       "[ 1  2  0 -3  1  0  0 -1  1  2  0  2 -4  1 -1]\n",
       "[ 0  0  0  0  0  1  0  0 -1 -3  4  1  0 -2  1]\n",
       "[ 0  0  0  0  0  0  1  1  1 -1  1  0  2 -1  1]"
      ]
     },
     "execution_count": 19,
     "metadata": {},
     "output_type": "execute_result"
    }
   ],
   "source": [
    "span([x7,x5,x3])"
   ]
  },
  {
   "cell_type": "code",
   "execution_count": 20,
   "metadata": {
    "collapsed": true
   },
   "outputs": [],
   "source": [
    "x4 = T*x5"
   ]
  },
  {
   "cell_type": "code",
   "execution_count": 21,
   "metadata": {
    "collapsed": true
   },
   "outputs": [],
   "source": [
    "x2=T*x3"
   ]
  },
  {
   "cell_type": "code",
   "execution_count": 22,
   "metadata": {
    "collapsed": true
   },
   "outputs": [],
   "source": [
    "x1 = K1.basis()[-1]"
   ]
  },
  {
   "cell_type": "code",
   "execution_count": 23,
   "metadata": {
    "collapsed": false
   },
   "outputs": [
    {
     "data": {
      "text/plain": [
       "Vector space of degree 15 and dimension 4 over Rational Field\n",
       "Basis matrix:\n",
       "[   1    0    0    0   -1  3/2   -1    0 -1/2  3/2    0  1/2   -1    0 -1/2]\n",
       "[   0    1    0    0  5/3   -4  4/3 -1/3  8/3 -5/3 -4/3 -1/3    1 -1/3    1]\n",
       "[   0    0    1    0  4/3   -2  2/3  4/3  4/3 -4/3 -2/3 -8/3    1 -2/3    0]\n",
       "[   0    0    0    1  2/3 -5/2  1/3 -1/3  7/6 -7/6 -4/3 -5/6    1 -1/3  1/2]"
      ]
     },
     "execution_count": 23,
     "metadata": {},
     "output_type": "execute_result"
    }
   ],
   "source": [
    "span([x1,x2,x4,x6])"
   ]
  },
  {
   "cell_type": "code",
   "execution_count": 25,
   "metadata": {
    "collapsed": false
   },
   "outputs": [],
   "source": [
    "B = [x1,x2,x3,x4,x5,x6,x7,x8,x9,x10]"
   ]
  },
  {
   "cell_type": "code",
   "execution_count": 26,
   "metadata": {
    "collapsed": false
   },
   "outputs": [
    {
     "data": {
      "text/plain": [
       "Vector space of degree 15 and dimension 10 over Rational Field\n",
       "Basis matrix:\n",
       "[   1    0    0    0    0    0    0    0    0    0   -1   -1   -1 -1/2 -1/2]\n",
       "[   0    1    0    0    0    0    0    0    0    0   -2    3    1  3/2 -3/2]\n",
       "[   0    0    1    0    0    0    0    0    0    0   -2    0   -1    1   -1]\n",
       "[   0    0    0    1    0    0    0    0    0    0   -4    2    2  3/2 -5/2]\n",
       "[   0    0    0    0    1    0    0    0    0    0   -3    1    1    1   -3]\n",
       "[   0    0    0    0    0    1    0    0    0    0   -1    2    1  1/2 -3/2]\n",
       "[   0    0    0    0    0    0    1    0    0    0   -3    0    0    1   -1]\n",
       "[   0    0    0    0    0    0    0    1    0    0    1   -1    1 -1/2  1/2]\n",
       "[   0    0    0    0    0    0    0    0    1    0    1    1    1 -1/2  1/2]\n",
       "[   0    0    0    0    0    0    0    0    0    1   -2    0    0    1   -1]"
      ]
     },
     "execution_count": 26,
     "metadata": {},
     "output_type": "execute_result"
    }
   ],
   "source": [
    "span(B)"
   ]
  },
  {
   "cell_type": "code",
   "execution_count": 27,
   "metadata": {
    "collapsed": false
   },
   "outputs": [
    {
     "data": {
      "text/plain": [
       "[0, 2, 4, 5, 5, 5, 5, 5, 5, 5, 5]"
      ]
     },
     "execution_count": 27,
     "metadata": {},
     "output_type": "execute_result"
    }
   ],
   "source": [
    "[((A+1)^i).nullity() for i in range(11)]"
   ]
  },
  {
   "cell_type": "code",
   "execution_count": 28,
   "metadata": {
    "collapsed": true
   },
   "outputs": [],
   "source": [
    "C = ((A+1)^3).right_kernel().basis()"
   ]
  },
  {
   "cell_type": "code",
   "execution_count": 29,
   "metadata": {
    "collapsed": false
   },
   "outputs": [
    {
     "data": {
      "text/plain": [
       "5"
      ]
     },
     "execution_count": 29,
     "metadata": {},
     "output_type": "execute_result"
    }
   ],
   "source": [
    "len(C)"
   ]
  },
  {
   "cell_type": "code",
   "execution_count": 30,
   "metadata": {
    "collapsed": true
   },
   "outputs": [],
   "source": [
    "D = B+C"
   ]
  },
  {
   "cell_type": "code",
   "execution_count": 31,
   "metadata": {
    "collapsed": true
   },
   "outputs": [],
   "source": [
    "W = (QQ^15).subspace_with_basis(D)"
   ]
  },
  {
   "cell_type": "code",
   "execution_count": 32,
   "metadata": {
    "collapsed": false
   },
   "outputs": [
    {
     "data": {
      "text/html": [
       "<html><script type=\"math/tex; mode=display\">\\newcommand{\\Bold}[1]{\\mathbf{#1}}\\left(\\begin{array}{rrrrrrrrrrrrrrr}\n",
       "2 & 0 & 0 & 0 & 0 & 0 & 0 & 0 & 0 & 0 & 0 & 0 & 0 & 0 & 0 \\\\\n",
       "0 & 2 & 1 & 0 & 0 & 0 & 0 & 0 & 0 & 0 & 0 & 0 & 0 & 0 & 0 \\\\\n",
       "0 & 0 & 2 & 0 & 0 & 0 & 0 & 0 & 0 & 0 & 0 & 0 & 0 & 0 & 0 \\\\\n",
       "0 & 0 & 0 & 2 & 1 & 0 & 0 & 0 & 0 & 0 & 0 & 0 & 0 & 0 & 0 \\\\\n",
       "0 & 0 & 0 & 0 & 2 & 0 & 0 & 0 & 0 & 0 & 0 & 0 & 0 & 0 & 0 \\\\\n",
       "0 & 0 & 0 & 0 & 0 & 2 & 1 & 0 & 0 & 0 & 0 & 0 & 0 & 0 & 0 \\\\\n",
       "0 & 0 & 0 & 0 & 0 & 0 & 2 & 1 & 0 & 0 & 0 & 0 & 0 & 0 & 0 \\\\\n",
       "0 & 0 & 0 & 0 & 0 & 0 & 0 & 2 & 1 & 0 & 0 & 0 & 0 & 0 & 0 \\\\\n",
       "0 & 0 & 0 & 0 & 0 & 0 & 0 & 0 & 2 & 1 & 0 & 0 & 0 & 0 & 0 \\\\\n",
       "0 & 0 & 0 & 0 & 0 & 0 & 0 & 0 & 0 & 2 & 0 & 0 & 0 & 0 & 0 \\\\\n",
       "0 & 0 & 0 & 0 & 0 & 0 & 0 & 0 & 0 & 0 & -\\frac{15}{4} & \\frac{13}{2} & \\frac{3}{4} & \\frac{7}{2} & -\\frac{3}{4} \\\\\n",
       "0 & 0 & 0 & 0 & 0 & 0 & 0 & 0 & 0 & 0 & -\\frac{301}{32} & \\frac{311}{16} & \\frac{69}{32} & \\frac{141}{16} & -\\frac{205}{32} \\\\\n",
       "0 & 0 & 0 & 0 & 0 & 0 & 0 & 0 & 0 & 0 & -\\frac{201}{32} & \\frac{235}{16} & \\frac{1}{32} & \\frac{89}{16} & -\\frac{169}{32} \\\\\n",
       "0 & 0 & 0 & 0 & 0 & 0 & 0 & 0 & 0 & 0 & \\frac{213}{16} & -\\frac{231}{8} & -\\frac{45}{16} & -\\frac{101}{8} & \\frac{165}{16} \\\\\n",
       "0 & 0 & 0 & 0 & 0 & 0 & 0 & 0 & 0 & 0 & -\\frac{323}{32} & \\frac{345}{16} & \\frac{75}{32} & \\frac{147}{16} & -\\frac{259}{32}\n",
       "\\end{array}\\right)</script></html>"
      ],
      "text/plain": [
       "[      2       0       0       0       0       0       0       0       0       0       0       0       0       0       0]\n",
       "[      0       2       1       0       0       0       0       0       0       0       0       0       0       0       0]\n",
       "[      0       0       2       0       0       0       0       0       0       0       0       0       0       0       0]\n",
       "[      0       0       0       2       1       0       0       0       0       0       0       0       0       0       0]\n",
       "[      0       0       0       0       2       0       0       0       0       0       0       0       0       0       0]\n",
       "[      0       0       0       0       0       2       1       0       0       0       0       0       0       0       0]\n",
       "[      0       0       0       0       0       0       2       1       0       0       0       0       0       0       0]\n",
       "[      0       0       0       0       0       0       0       2       1       0       0       0       0       0       0]\n",
       "[      0       0       0       0       0       0       0       0       2       1       0       0       0       0       0]\n",
       "[      0       0       0       0       0       0       0       0       0       2       0       0       0       0       0]\n",
       "[      0       0       0       0       0       0       0       0       0       0   -15/4    13/2     3/4     7/2    -3/4]\n",
       "[      0       0       0       0       0       0       0       0       0       0 -301/32  311/16   69/32  141/16 -205/32]\n",
       "[      0       0       0       0       0       0       0       0       0       0 -201/32  235/16    1/32   89/16 -169/32]\n",
       "[      0       0       0       0       0       0       0       0       0       0  213/16  -231/8  -45/16  -101/8  165/16]\n",
       "[      0       0       0       0       0       0       0       0       0       0 -323/32  345/16   75/32  147/16 -259/32]"
      ]
     },
     "metadata": {},
     "output_type": "display_data"
    }
   ],
   "source": [
    "show(column_matrix([W.coordinate_vector((A*d)) for d in D]))"
   ]
  },
  {
   "cell_type": "code",
   "execution_count": 33,
   "metadata": {
    "collapsed": false
   },
   "outputs": [
    {
     "data": {
      "text/plain": [
       "[(0, 0, 0, 1, 2/3, -5/2, 1/3, -1/3, 7/6, -7/6, -4/3, -5/6, 1, -1/3, 1/2),\n",
       " (0, -10, 2, 12, -6, 6, -8, 2, -10, 0, -4, -12, 4, -2, -4),\n",
       " (0, 0, 0, 0, 0, 1, 0, 0, -1, -3, 4, 1, 0, -2, 1),\n",
       " (-1, -7, 2, 9, -2, 0, -4, 2, -5, -3, -4, -11, 5, -2, -2),\n",
       " (0, 0, 0, 0, 0, 0, 1, 1, 1, -1, 1, 0, 2, -1, 1),\n",
       " (-1, -1, 0, 1, 0, 0, 0, 0, -1, -1, 0, -1, 1, 0, 0),\n",
       " (-1, -2, 0, 3, -1, 0, -1, 0, -2, -1, -1, -2, 2, 0, 0),\n",
       " (0, -1, -1, 2, -1, 0, -1, 0, -1, 1, -1, -1, 2, 0, 0),\n",
       " (1, 4, -2, -4, 2, -3, 2, -1, 5, 3, 0, 5, 0, 1, 1),\n",
       " (0, 0, 0, 0, 0, 0, 0, 0, 0, 1, -2, 0, 0, 1, -1),\n",
       " (1, 0, 0, 0, 0, 41/4, -199/32, 127/32, -9, -37/2, 621/32, 19/16, -37/32, -395/32, 29/2),\n",
       " (0, 1, 0, 0, 0, -45/2, 181/16, -125/16, 19, 40, -663/16, -25/8, 31/16, 401/16, -32),\n",
       " (0, 0, 1, 0, 0, -9/4, 47/32, -7/32, 2, 7/2, -133/32, -11/16, -3/32, 83/32, -7/2),\n",
       " (0, 0, 0, 1, 0, -21/2, 71/16, -63/16, 9, 17, -301/16, -11/8, 21/16, 171/16, -13),\n",
       " (0, 0, 0, 0, 1, 21/4, -103/32, 63/32, -4, -27/2, 397/32, 19/16, -5/32, -267/32, 23/2)]"
      ]
     },
     "execution_count": 33,
     "metadata": {},
     "output_type": "execute_result"
    }
   ],
   "source": [
    "D"
   ]
  },
  {
   "cell_type": "code",
   "execution_count": 34,
   "metadata": {
    "collapsed": false
   },
   "outputs": [
    {
     "data": {
      "text/html": [
       "<html><script type=\"math/tex; mode=display\">\\newcommand{\\Bold}[1]{\\mathbf{#1}}\\left(\\begin{array}{rrrrrrrrrrrrrrr}\n",
       "0 & 0 & 0 & -1 & 0 & -1 & -1 & 0 & 1 & 0 & 1 & 0 & 0 & 0 & 0 \\\\\n",
       "0 & -10 & 0 & -7 & 0 & -1 & -2 & -1 & 4 & 0 & 0 & 1 & 0 & 0 & 0 \\\\\n",
       "0 & 2 & 0 & 2 & 0 & 0 & 0 & -1 & -2 & 0 & 0 & 0 & 1 & 0 & 0 \\\\\n",
       "1 & 12 & 0 & 9 & 0 & 1 & 3 & 2 & -4 & 0 & 0 & 0 & 0 & 1 & 0 \\\\\n",
       "\\frac{2}{3} & -6 & 0 & -2 & 0 & 0 & -1 & -1 & 2 & 0 & 0 & 0 & 0 & 0 & 1 \\\\\n",
       "-\\frac{5}{2} & 6 & 1 & 0 & 0 & 0 & 0 & 0 & -3 & 0 & \\frac{41}{4} & -\\frac{45}{2} & -\\frac{9}{4} & -\\frac{21}{2} & \\frac{21}{4} \\\\\n",
       "\\frac{1}{3} & -8 & 0 & -4 & 1 & 0 & -1 & -1 & 2 & 0 & -\\frac{199}{32} & \\frac{181}{16} & \\frac{47}{32} & \\frac{71}{16} & -\\frac{103}{32} \\\\\n",
       "-\\frac{1}{3} & 2 & 0 & 2 & 1 & 0 & 0 & 0 & -1 & 0 & \\frac{127}{32} & -\\frac{125}{16} & -\\frac{7}{32} & -\\frac{63}{16} & \\frac{63}{32} \\\\\n",
       "\\frac{7}{6} & -10 & -1 & -5 & 1 & -1 & -2 & -1 & 5 & 0 & -9 & 19 & 2 & 9 & -4 \\\\\n",
       "-\\frac{7}{6} & 0 & -3 & -3 & -1 & -1 & -1 & 1 & 3 & 1 & -\\frac{37}{2} & 40 & \\frac{7}{2} & 17 & -\\frac{27}{2} \\\\\n",
       "-\\frac{4}{3} & -4 & 4 & -4 & 1 & 0 & -1 & -1 & 0 & -2 & \\frac{621}{32} & -\\frac{663}{16} & -\\frac{133}{32} & -\\frac{301}{16} & \\frac{397}{32} \\\\\n",
       "-\\frac{5}{6} & -12 & 1 & -11 & 0 & -1 & -2 & -1 & 5 & 0 & \\frac{19}{16} & -\\frac{25}{8} & -\\frac{11}{16} & -\\frac{11}{8} & \\frac{19}{16} \\\\\n",
       "1 & 4 & 0 & 5 & 2 & 1 & 2 & 2 & 0 & 0 & -\\frac{37}{32} & \\frac{31}{16} & -\\frac{3}{32} & \\frac{21}{16} & -\\frac{5}{32} \\\\\n",
       "-\\frac{1}{3} & -2 & -2 & -2 & -1 & 0 & 0 & 0 & 1 & 1 & -\\frac{395}{32} & \\frac{401}{16} & \\frac{83}{32} & \\frac{171}{16} & -\\frac{267}{32} \\\\\n",
       "\\frac{1}{2} & -4 & 1 & -2 & 1 & 0 & 0 & 0 & 1 & -1 & \\frac{29}{2} & -32 & -\\frac{7}{2} & -13 & \\frac{23}{2}\n",
       "\\end{array}\\right)</script></html>"
      ],
      "text/plain": [
       "[      0       0       0      -1       0      -1      -1       0       1       0       1       0       0       0       0]\n",
       "[      0     -10       0      -7       0      -1      -2      -1       4       0       0       1       0       0       0]\n",
       "[      0       2       0       2       0       0       0      -1      -2       0       0       0       1       0       0]\n",
       "[      1      12       0       9       0       1       3       2      -4       0       0       0       0       1       0]\n",
       "[    2/3      -6       0      -2       0       0      -1      -1       2       0       0       0       0       0       1]\n",
       "[   -5/2       6       1       0       0       0       0       0      -3       0    41/4   -45/2    -9/4   -21/2    21/4]\n",
       "[    1/3      -8       0      -4       1       0      -1      -1       2       0 -199/32  181/16   47/32   71/16 -103/32]\n",
       "[   -1/3       2       0       2       1       0       0       0      -1       0  127/32 -125/16   -7/32  -63/16   63/32]\n",
       "[    7/6     -10      -1      -5       1      -1      -2      -1       5       0      -9      19       2       9      -4]\n",
       "[   -7/6       0      -3      -3      -1      -1      -1       1       3       1   -37/2      40     7/2      17   -27/2]\n",
       "[   -4/3      -4       4      -4       1       0      -1      -1       0      -2  621/32 -663/16 -133/32 -301/16  397/32]\n",
       "[   -5/6     -12       1     -11       0      -1      -2      -1       5       0   19/16   -25/8  -11/16   -11/8   19/16]\n",
       "[      1       4       0       5       2       1       2       2       0       0  -37/32   31/16   -3/32   21/16   -5/32]\n",
       "[   -1/3      -2      -2      -2      -1       0       0       0       1       1 -395/32  401/16   83/32  171/16 -267/32]\n",
       "[    1/2      -4       1      -2       1       0       0       0       1      -1    29/2     -32    -7/2     -13    23/2]"
      ]
     },
     "metadata": {},
     "output_type": "display_data"
    }
   ],
   "source": [
    "S = column_matrix(D)\n",
    "show(S)"
   ]
  },
  {
   "cell_type": "code",
   "execution_count": 38,
   "metadata": {
    "collapsed": false
   },
   "outputs": [
    {
     "data": {
      "text/html": [
       "<html><script type=\"math/tex; mode=display\">\\newcommand{\\Bold}[1]{\\mathbf{#1}}\\left(\\begin{array}{rrrrrrrrrrrrrrr}\n",
       "2 & 0 & 0 & 0 & 0 & 0 & 0 & 0 & 0 & 0 & 0 & 0 & 0 & 0 & 0 \\\\\n",
       "0 & 2 & 1 & 0 & 0 & 0 & 0 & 0 & 0 & 0 & 0 & 0 & 0 & 0 & 0 \\\\\n",
       "0 & 0 & 2 & 0 & 0 & 0 & 0 & 0 & 0 & 0 & 0 & 0 & 0 & 0 & 0 \\\\\n",
       "0 & 0 & 0 & 2 & 1 & 0 & 0 & 0 & 0 & 0 & 0 & 0 & 0 & 0 & 0 \\\\\n",
       "0 & 0 & 0 & 0 & 2 & 0 & 0 & 0 & 0 & 0 & 0 & 0 & 0 & 0 & 0 \\\\\n",
       "0 & 0 & 0 & 0 & 0 & 2 & 1 & 0 & 0 & 0 & 0 & 0 & 0 & 0 & 0 \\\\\n",
       "0 & 0 & 0 & 0 & 0 & 0 & 2 & 1 & 0 & 0 & 0 & 0 & 0 & 0 & 0 \\\\\n",
       "0 & 0 & 0 & 0 & 0 & 0 & 0 & 2 & 1 & 0 & 0 & 0 & 0 & 0 & 0 \\\\\n",
       "0 & 0 & 0 & 0 & 0 & 0 & 0 & 0 & 2 & 1 & 0 & 0 & 0 & 0 & 0 \\\\\n",
       "0 & 0 & 0 & 0 & 0 & 0 & 0 & 0 & 0 & 2 & 0 & 0 & 0 & 0 & 0 \\\\\n",
       "0 & 0 & 0 & 0 & 0 & 0 & 0 & 0 & 0 & 0 & -\\frac{15}{4} & \\frac{13}{2} & \\frac{3}{4} & \\frac{7}{2} & -\\frac{3}{4} \\\\\n",
       "0 & 0 & 0 & 0 & 0 & 0 & 0 & 0 & 0 & 0 & -\\frac{301}{32} & \\frac{311}{16} & \\frac{69}{32} & \\frac{141}{16} & -\\frac{205}{32} \\\\\n",
       "0 & 0 & 0 & 0 & 0 & 0 & 0 & 0 & 0 & 0 & -\\frac{201}{32} & \\frac{235}{16} & \\frac{1}{32} & \\frac{89}{16} & -\\frac{169}{32} \\\\\n",
       "0 & 0 & 0 & 0 & 0 & 0 & 0 & 0 & 0 & 0 & \\frac{213}{16} & -\\frac{231}{8} & -\\frac{45}{16} & -\\frac{101}{8} & \\frac{165}{16} \\\\\n",
       "0 & 0 & 0 & 0 & 0 & 0 & 0 & 0 & 0 & 0 & -\\frac{323}{32} & \\frac{345}{16} & \\frac{75}{32} & \\frac{147}{16} & -\\frac{259}{32}\n",
       "\\end{array}\\right)</script></html>"
      ],
      "text/plain": [
       "[      2       0       0       0       0       0       0       0       0       0       0       0       0       0       0]\n",
       "[      0       2       1       0       0       0       0       0       0       0       0       0       0       0       0]\n",
       "[      0       0       2       0       0       0       0       0       0       0       0       0       0       0       0]\n",
       "[      0       0       0       2       1       0       0       0       0       0       0       0       0       0       0]\n",
       "[      0       0       0       0       2       0       0       0       0       0       0       0       0       0       0]\n",
       "[      0       0       0       0       0       2       1       0       0       0       0       0       0       0       0]\n",
       "[      0       0       0       0       0       0       2       1       0       0       0       0       0       0       0]\n",
       "[      0       0       0       0       0       0       0       2       1       0       0       0       0       0       0]\n",
       "[      0       0       0       0       0       0       0       0       2       1       0       0       0       0       0]\n",
       "[      0       0       0       0       0       0       0       0       0       2       0       0       0       0       0]\n",
       "[      0       0       0       0       0       0       0       0       0       0   -15/4    13/2     3/4     7/2    -3/4]\n",
       "[      0       0       0       0       0       0       0       0       0       0 -301/32  311/16   69/32  141/16 -205/32]\n",
       "[      0       0       0       0       0       0       0       0       0       0 -201/32  235/16    1/32   89/16 -169/32]\n",
       "[      0       0       0       0       0       0       0       0       0       0  213/16  -231/8  -45/16  -101/8  165/16]\n",
       "[      0       0       0       0       0       0       0       0       0       0 -323/32  345/16   75/32  147/16 -259/32]"
      ]
     },
     "metadata": {},
     "output_type": "display_data"
    }
   ],
   "source": [
    "show(S.inverse()*A*S)"
   ]
  },
  {
   "cell_type": "code",
   "execution_count": null,
   "metadata": {
    "collapsed": true
   },
   "outputs": [],
   "source": []
  }
 ],
 "metadata": {
  "kernelspec": {
   "display_name": "SageMath 8.1",
   "language": "",
   "name": "sagemath"
  },
  "language_info": {
   "codemirror_mode": {
    "name": "ipython",
    "version": 2
   },
   "file_extension": ".py",
   "mimetype": "text/x-python",
   "name": "python",
   "nbconvert_exporter": "python",
   "pygments_lexer": "ipython2",
   "version": "2.7.14"
  },
  "name": "index.ipynb"
 },
 "nbformat": 4,
 "nbformat_minor": 0
}
